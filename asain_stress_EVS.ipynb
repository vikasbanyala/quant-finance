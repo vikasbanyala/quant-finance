{
 "cells": [
  {
   "cell_type": "markdown",
   "id": "83a319e1",
   "metadata": {},
   "source": [
    "# Asian Option Pricing \n"
   ]
  },
  {
   "cell_type": "markdown",
   "id": "4d7eee1a",
   "metadata": {},
   "source": [
    "## 1 — Imports\n",
    "Import required Python libraries."
   ]
  },
  {
   "cell_type": "code",
   "execution_count": 2,
   "id": "5508f7fa",
   "metadata": {},
   "outputs": [],
   "source": [
    "import numpy as np\n",
    "import pandas as pd\n",
    "from scipy.stats import norm\n",
    "import math\n",
    "\n"
   ]
  },
  {
   "cell_type": "markdown",
   "id": "057ae94d",
   "metadata": {},
   "source": [
    "## 2 — Parameters \n",
    "Core model parameters (spot, strike, rate, vol, maturity, etc.)."
   ]
  },
  {
   "cell_type": "code",
   "execution_count": 45,
   "id": "e23d4b2d",
   "metadata": {},
   "outputs": [
    {
     "name": "stdout",
     "output_type": "stream",
     "text": [
      "Parameters set: S0=1235.0, K=1800.0, r=0.12, sigma=0.2, T=1.0, n_obs=12, n_paths=20000\n"
     ]
    }
   ],
   "source": [
    "S0    = 1235.0       # initial spot\n",
    "K     = 1800.0      # strike\n",
    "r     = 0.12      # risk-free rate\n",
    "sigma = 0.20      # volatility\n",
    "T     = 1.0        # maturity (years)\n",
    "n_obs = 12         # observation count (discrete averaging)\n",
    "n_paths = 20000    # Monte Carlo paths (reduce if slow)\n",
    "seed = 2025\n",
    "\n",
    "print('Parameters set: S0={}, K={}, r={}, sigma={}, T={}, n_obs={}, n_paths={}'.format(\n",
    "    S0, K, r, sigma, T, n_obs, n_paths))"
   ]
  },
  {
   "cell_type": "markdown",
   "id": "0292f656",
   "metadata": {},
   "source": [
    "## 3 — Observation times\n"
   ]
  },
  {
   "cell_type": "code",
   "execution_count": 46,
   "id": "c6841c66",
   "metadata": {},
   "outputs": [
    {
     "name": "stdout",
     "output_type": "stream",
     "text": [
      "Times: [0.08333333 0.16666667 0.25       0.33333333 0.41666667 0.5\n",
      " 0.58333333 0.66666667 0.75       0.83333333 0.91666667 1.        ]\n",
      "dt: [0.08333333 0.08333333 0.08333333 0.08333333 0.08333333 0.08333333\n",
      " 0.08333333 0.08333333 0.08333333 0.08333333 0.08333333 0.08333333]\n"
     ]
    }
   ],
   "source": [
    "times = np.linspace(T / n_obs, T, n_obs)\n",
    "dt = np.diff(np.concatenate(([0.0], times)))\n",
    "sqrt_dt = np.sqrt(dt)\n",
    "print('Times:', times)\n",
    "print('dt:', dt)"
   ]
  },
  {
   "cell_type": "markdown",
   "id": "e3968d8c",
   "metadata": {},
   "source": [
    "## 4 — Geometric-average Asian (analytic background)\n",
    "The geometric-average Asian option has a closed-form under Black-Scholes because the log of the geometric average is normal. We'll implement the analytic formula for discrete sampling."
   ]
  },
  {
   "cell_type": "code",
   "execution_count": 47,
   "id": "d1e3113e",
   "metadata": {},
   "outputs": [],
   "source": [
    "def geometric_asian_call_price(S0, K, r, sigma, times):\n",
    "   \n",
    "    times = np.array(times, dtype=float)\n",
    "    n = len(times)\n",
    "    if n == 0:\n",
    "        return 0.0\n",
    "\n",
    "    # mean log S at observation times\n",
    "    m_i = np.log(S0) + (r - 0.5 * sigma**2) * times\n",
    "    muG = m_i.mean()\n",
    "\n",
    "    # var(log G)\n",
    "    Tmat = np.minimum.outer(times, times)\n",
    "    varG = (sigma**2 / (n**2)) * Tmat.sum()\n",
    "\n",
    "    if varG <= 0:\n",
    "        g0 = np.exp(muG)\n",
    "        payoff = max(g0 - K, 0.0)\n",
    "        return math.exp(-r * times[-1]) * payoff\n",
    "\n",
    "    sqrt_varG = math.sqrt(varG)\n",
    "    a = (muG - math.log(K)) / sqrt_varG\n",
    "    b = (muG + varG - math.log(K)) / sqrt_varG\n",
    "\n",
    "    EG_gt = math.exp(muG + 0.5 * varG) * norm.cdf(b)\n",
    "    PG_gt = norm.cdf(a)\n",
    "\n",
    "    price = math.exp(-r * times[-1]) * (EG_gt - K * PG_gt)\n",
    "    return float(price)\n",
    "\n"
   ]
  },
  {
   "cell_type": "markdown",
   "id": "843d5ea0",
   "metadata": {},
   "source": [
    "### Compute the analytic geometric price (for control variate)."
   ]
  },
  {
   "cell_type": "code",
   "execution_count": 48,
   "id": "d92f8c80",
   "metadata": {},
   "outputs": [
    {
     "name": "stdout",
     "output_type": "stream",
     "text": [
      "Analytic geometric Asian price: 0.27042802276115235\n"
     ]
    }
   ],
   "source": [
    "geo_price = geometric_asian_call_price(S0, K, r, sigma, times)\n",
    "print('Analytic geometric Asian price:', geo_price)"
   ]
  },
  {
   "cell_type": "markdown",
   "id": "aeb60efd",
   "metadata": {},
   "source": [
    "## 5 — Monte Carlo plan (overview)\n",
    "We'll simulate price paths at the observation times, compute arithmetic and geometric averages, discount payoffs, and then apply variance reduction:\n",
    "\n",
    "- Antithetic variates\n",
    "- Control variate using the analytic geometric price."
   ]
  },
  {
   "cell_type": "code",
   "execution_count": 49,
   "id": "ec1c1e49",
   "metadata": {},
   "outputs": [
    {
     "name": "stdout",
     "output_type": "stream",
     "text": [
      "Using 20000 paths (10000 antithetic pairs)\n"
     ]
    }
   ],
   "source": [
    "np.random.seed(seed)\n",
    "half = n_paths // 2\n",
    "print('Using {} paths ({} antithetic pairs)'.format(n_paths, half))"
   ]
  },
  {
   "cell_type": "markdown",
   "id": "971df7b8",
   "metadata": {},
   "source": [
    "### Generate standard normal variates for antithetic sampling."
   ]
  },
  {
   "cell_type": "code",
   "execution_count": 50,
   "id": "2fe0a406",
   "metadata": {},
   "outputs": [
    {
     "name": "stdout",
     "output_type": "stream",
     "text": [
      "Normals shape: (20000, 12)\n"
     ]
    }
   ],
   "source": [
    "rng = np.random.default_rng(seed)\n",
    "Z_half = rng.standard_normal(size=(half, n_obs))\n",
    "Z = np.vstack([Z_half, -Z_half])\n",
    "print('Normals shape:', Z.shape)"
   ]
  },
  {
   "cell_type": "markdown",
   "id": "e7537f9d",
   "metadata": {},
   "source": [
    "### Precompute per-step drift and diffusion terms."
   ]
  },
  {
   "cell_type": "code",
   "execution_count": 51,
   "id": "f13ccc22",
   "metadata": {},
   "outputs": [
    {
     "name": "stdout",
     "output_type": "stream",
     "text": [
      "drift: [0.00833333 0.00833333 0.00833333 0.00833333 0.00833333 0.00833333\n",
      " 0.00833333 0.00833333 0.00833333 0.00833333 0.00833333 0.00833333]\n",
      "diffusion: [0.05773503 0.05773503 0.05773503 0.05773503 0.05773503 0.05773503\n",
      " 0.05773503 0.05773503 0.05773503 0.05773503 0.05773503 0.05773503]\n"
     ]
    }
   ],
   "source": [
    "drift = (r - 0.5 * sigma**2) * dt\n",
    "diffusion = sigma * sqrt_dt\n",
    "print('drift:', drift)\n",
    "print('diffusion:', diffusion)"
   ]
  },
  {
   "cell_type": "markdown",
   "id": "da318f5c",
   "metadata": {},
   "source": [
    "### Build log-price increments and cumulative log-prices (vectorized)."
   ]
  },
  {
   "cell_type": "code",
   "execution_count": 52,
   "id": "2752777a",
   "metadata": {},
   "outputs": [
    {
     "name": "stdout",
     "output_type": "stream",
     "text": [
      "S_paths shape: (20000, 12)\n"
     ]
    }
   ],
   "source": [
    "log_increments = drift[np.newaxis, :] + diffusion[np.newaxis, :] * Z\n",
    "logS = np.cumsum(log_increments, axis=1)\n",
    "logS = np.log(S0) + logS\n",
    "S_paths = np.exp(logS)\n",
    "print('S_paths shape:', S_paths.shape)"
   ]
  },
  {
   "cell_type": "markdown",
   "id": "343a2ca8",
   "metadata": {},
   "source": [
    "### Compute arithmetic and geometric averages across observation times for each path."
   ]
  },
  {
   "cell_type": "code",
   "execution_count": 53,
   "id": "be566b0c",
   "metadata": {},
   "outputs": [
    {
     "name": "stdout",
     "output_type": "stream",
     "text": [
      "Sample of arithmetic averages: [1001.20081627 1304.03559409 1531.27772485 1225.12050987 1604.24970327]\n",
      "Sample of geometric averages: [ 998.81105811 1301.34839236 1526.8486731  1220.71318122 1594.63687607]\n"
     ]
    }
   ],
   "source": [
    "arith_avg = S_paths.mean(axis=1)\n",
    "geo_avg = np.exp(np.mean(np.log(S_paths), axis=1))\n",
    "print('Sample of arithmetic averages:', arith_avg[:5])\n",
    "print('Sample of geometric averages:', geo_avg[:5])"
   ]
  },
  {
   "cell_type": "markdown",
   "id": "89226a42",
   "metadata": {},
   "source": [
    "### Compute discounted payoffs for arithmetic and geometric payoffs."
   ]
  },
  {
   "cell_type": "code",
   "execution_count": 54,
   "id": "22ac2e05",
   "metadata": {},
   "outputs": [
    {
     "name": "stdout",
     "output_type": "stream",
     "text": [
      "Mean raw payoff (arith): 0.44186068643238213\n",
      "Mean geo payoff: 0.2924137451114216\n"
     ]
    }
   ],
   "source": [
    "discount = math.exp(-r * times[-1])\n",
    "payoffs = discount * np.maximum(arith_avg - K, 0.0)\n",
    "payoffs_geo = discount * np.maximum(geo_avg - K, 0.0)\n",
    "print('Mean raw payoff (arith):', np.mean(payoffs))\n",
    "print('Mean geo payoff:', np.mean(payoffs_geo))"
   ]
  },
  {
   "cell_type": "markdown",
   "id": "72afc2c1",
   "metadata": {},
   "source": [
    "### Control variate: estimate coefficient b_hat and adjust payoffs.\n",
    "b_hat = cov(payoff, pay_geo) / var(pay_geo). Then adjusted = payoff - b_hat*(pay_geo - E[pay_geo])."
   ]
  },
  {
   "cell_type": "code",
   "execution_count": 55,
   "id": "70288dbd",
   "metadata": {},
   "outputs": [
    {
     "name": "stdout",
     "output_type": "stream",
     "text": [
      "Estimated b_hat = 1.261068451909139\n",
      "Analytic geo price (control): 0.27042802276115235\n",
      "Adjusted MC price: 0.41413518558402396 SE: 0.010568542354964844\n"
     ]
    }
   ],
   "source": [
    "cov_pg = np.cov(payoffs, payoffs_geo, bias=True)[0,1]\n",
    "var_geo = np.var(payoffs_geo)\n",
    "b_hat = cov_pg / var_geo if var_geo > 0 else 0.0\n",
    "print('Estimated b_hat =', b_hat)\n",
    "\n",
    "# analytic geo expectation already computed as geo_price\n",
    "print('Analytic geo price (control):', geo_price)\n",
    "adjusted = payoffs - b_hat * (payoffs_geo - geo_price)\n",
    "price_est = adjusted.mean()\n",
    "stderr = adjusted.std(ddof=1) / math.sqrt(len(adjusted))\n",
    "print('Adjusted MC price:', price_est, 'SE:', stderr)"
   ]
  },
  {
   "cell_type": "markdown",
   "id": "108d045b",
   "metadata": {},
   "source": [
    "## 6 — Base case result\n",
    "Summary of the base-case Monte Carlo price (with variance reduction)."
   ]
  },
  {
   "cell_type": "code",
   "execution_count": 56,
   "id": "c651b879",
   "metadata": {},
   "outputs": [
    {
     "name": "stdout",
     "output_type": "stream",
     "text": [
      "{'Scenario': 'Base', 'S0': 1235.0, 'r': 0.12, 'sigma': 0.2, 'Price': 0.41413518558402396, 'SE': 0.010568542354964844}\n"
     ]
    }
   ],
   "source": [
    "base_row = {'Scenario': 'Base', 'S0': S0, 'r': r, 'sigma': sigma, 'Price': price_est, 'SE': stderr}\n",
    "print(base_row)"
   ]
  },
  {
   "cell_type": "markdown",
   "id": "af3a5cfb",
   "metadata": {},
   "source": [
    "## 7 — Stress scenarios (overview)\n",
    "We'll run: vol +/-100bps, rate +/-100bps, S0 +/-5%, and random-path vol (σ per path ~ N(σ, 0.01))."
   ]
  },
  {
   "cell_type": "markdown",
   "id": "b3cca8b9",
   "metadata": {},
   "source": [
    "### Monte Carlo routine for a single (S0, r, sigma) triple\n",
    "We implement a short inline routine to re-run MC with given parameters."
   ]
  },
  {
   "cell_type": "code",
   "execution_count": 57,
   "id": "4127311a",
   "metadata": {},
   "outputs": [
    {
     "name": "stdout",
     "output_type": "stream",
     "text": [
      "Helper mc_once defined\n"
     ]
    }
   ],
   "source": [
    "def mc_once(S0_, r_, sigma_, seed_local=seed, use_antithetic=True):\n",
    "    rng_local = np.random.default_rng(seed_local)\n",
    "    half_local = n_paths // 2\n",
    "    Zh = rng_local.standard_normal(size=(half_local, n_obs))\n",
    "    Z_all = np.vstack([Zh, -Zh]) if use_antithetic else np.vstack([Zh, rng_local.standard_normal(size=(half_local, n_obs))])\n",
    "\n",
    "    drift_local = (r_ - 0.5 * sigma_**2) * dt\n",
    "    diffusion_local = sigma_ * sqrt_dt\n",
    "\n",
    "    log_inc = drift_local[np.newaxis, :] + diffusion_local[np.newaxis, :] * Z_all\n",
    "    logS_local = np.cumsum(log_inc, axis=1)\n",
    "    logS_local = np.log(S0_) + logS_local\n",
    "    S_local = np.exp(logS_local)\n",
    "\n",
    "    arith_avg_local = S_local.mean(axis=1)\n",
    "    geo_avg_local = np.exp(np.mean(np.log(S_local), axis=1))\n",
    "\n",
    "    discount_local = math.exp(-r_ * times[-1])\n",
    "    pay_local = discount_local * np.maximum(arith_avg_local - K, 0.0)\n",
    "    pay_geo_local = discount_local * np.maximum(geo_avg_local - K, 0.0)\n",
    "\n",
    "    cov_local = np.cov(pay_local, pay_geo_local, bias=True)[0, 1]\n",
    "    var_geo_local = np.var(pay_geo_local)\n",
    "    b_local = cov_local / var_geo_local if var_geo_local > 0 else 0.0\n",
    "\n",
    "    geo_analytic_local = geometric_asian_call_price(S0_, K, r_, sigma_, times)\n",
    "    adjusted_local = pay_local - b_local * (pay_geo_local - geo_analytic_local)\n",
    "\n",
    "    return float(adjusted_local.mean()), float(adjusted_local.std(ddof=1) / math.sqrt(len(adjusted_local)))\n",
    "\n",
    "print('Helper mc_once defined')"
   ]
  },
  {
   "cell_type": "markdown",
   "id": "f4ba2de8",
   "metadata": {},
   "source": [
    "### Volatility stress: run σ +100bps and σ -100bps"
   ]
  },
  {
   "cell_type": "code",
   "execution_count": 58,
   "id": "6e777d11",
   "metadata": {},
   "outputs": [
    {
     "data": {
      "text/plain": [
       "[{'Scenario': 'Vol +100bps',\n",
       "  'S0': 1235.0,\n",
       "  'r': 0.12,\n",
       "  'sigma': 0.21000000000000002,\n",
       "  'Price': 0.612758960313515,\n",
       "  'SE': 0.012768608661689584},\n",
       " {'Scenario': 'Vol -100bps',\n",
       "  'S0': 1235.0,\n",
       "  'r': 0.12,\n",
       "  'sigma': 0.19,\n",
       "  'Price': 0.2621891108535402,\n",
       "  'SE': 0.008060072858695826}]"
      ]
     },
     "execution_count": 58,
     "metadata": {},
     "output_type": "execute_result"
    }
   ],
   "source": [
    "results = []\n",
    "for dv in [+0.01, -0.01]:\n",
    "    sigma_s = sigma + dv\n",
    "    p, se = mc_once(S0, r, sigma_s, seed_local=seed)\n",
    "    results.append({'Scenario': f\"Vol {'+' if dv>0 else ''}{int(dv*10000)}bps\", 'S0': S0, 'r': r, 'sigma': sigma_s, 'Price': p, 'SE': se})\n",
    "\n",
    "results"
   ]
  },
  {
   "cell_type": "markdown",
   "id": "0332a64d",
   "metadata": {},
   "source": [
    "### Interest rate stress: run r +100bps and r -100bps"
   ]
  },
  {
   "cell_type": "code",
   "execution_count": 59,
   "id": "15341ac3",
   "metadata": {},
   "outputs": [
    {
     "data": {
      "text/plain": [
       "[{'Scenario': 'Vol +100bps',\n",
       "  'S0': 1235.0,\n",
       "  'r': 0.12,\n",
       "  'sigma': 0.21000000000000002,\n",
       "  'Price': 0.612758960313515,\n",
       "  'SE': 0.012768608661689584},\n",
       " {'Scenario': 'Vol -100bps',\n",
       "  'S0': 1235.0,\n",
       "  'r': 0.12,\n",
       "  'sigma': 0.19,\n",
       "  'Price': 0.2621891108535402,\n",
       "  'SE': 0.008060072858695826},\n",
       " {'Scenario': 'Rate +100bps',\n",
       "  'S0': 1235.0,\n",
       "  'r': 0.13,\n",
       "  'sigma': 0.2,\n",
       "  'Price': 0.4705707352602425,\n",
       "  'SE': 0.011171610927095822},\n",
       " {'Scenario': 'Rate -100bps',\n",
       "  'S0': 1235.0,\n",
       "  'r': 0.11,\n",
       "  'sigma': 0.2,\n",
       "  'Price': 0.3635532861617817,\n",
       "  'SE': 0.009857702579214474}]"
      ]
     },
     "execution_count": 59,
     "metadata": {},
     "output_type": "execute_result"
    }
   ],
   "source": [
    "for dr in [+0.01, -0.01]:\n",
    "    r_s = r + dr\n",
    "    p, se = mc_once(S0, r_s, sigma, seed_local=seed)\n",
    "    results.append({'Scenario': f\"Rate {'+' if dr>0 else ''}{int(dr*10000)}bps\", 'S0': S0, 'r': r_s, 'sigma': sigma, 'Price': p, 'SE': se})\n",
    "\n",
    "results"
   ]
  },
  {
   "cell_type": "markdown",
   "id": "35fb98f8",
   "metadata": {},
   "source": [
    "### Spot shock: S0 +5% and S0 -5%"
   ]
  },
  {
   "cell_type": "code",
   "execution_count": 60,
   "id": "9b1a45d2",
   "metadata": {},
   "outputs": [
    {
     "data": {
      "text/plain": [
       "[{'Scenario': 'Vol +100bps',\n",
       "  'S0': 1235.0,\n",
       "  'r': 0.12,\n",
       "  'sigma': 0.21000000000000002,\n",
       "  'Price': 0.612758960313515,\n",
       "  'SE': 0.012768608661689584},\n",
       " {'Scenario': 'Vol -100bps',\n",
       "  'S0': 1235.0,\n",
       "  'r': 0.12,\n",
       "  'sigma': 0.19,\n",
       "  'Price': 0.2621891108535402,\n",
       "  'SE': 0.008060072858695826},\n",
       " {'Scenario': 'Rate +100bps',\n",
       "  'S0': 1235.0,\n",
       "  'r': 0.13,\n",
       "  'sigma': 0.2,\n",
       "  'Price': 0.4705707352602425,\n",
       "  'SE': 0.011171610927095822},\n",
       " {'Scenario': 'Rate -100bps',\n",
       "  'S0': 1235.0,\n",
       "  'r': 0.11,\n",
       "  'sigma': 0.2,\n",
       "  'Price': 0.3635532861617817,\n",
       "  'SE': 0.009857702579214474},\n",
       " {'Scenario': 'S0 +5%',\n",
       "  'S0': 1296.75,\n",
       "  'r': 0.12,\n",
       "  'sigma': 0.2,\n",
       "  'Price': 1.2461046753159517,\n",
       "  'SE': 0.014518055649042497},\n",
       " {'Scenario': 'S0 -5%',\n",
       "  'S0': 1173.25,\n",
       "  'r': 0.12,\n",
       "  'sigma': 0.2,\n",
       "  'Price': 0.11048867244945139,\n",
       "  'SE': 0.005629658142399387}]"
      ]
     },
     "execution_count": 60,
     "metadata": {},
     "output_type": "execute_result"
    }
   ],
   "source": [
    "for ds in [+0.05, -0.05]:\n",
    "    S0_s = S0 * (1.0 + ds)\n",
    "    p, se = mc_once(S0_s, r, sigma, seed_local=seed)\n",
    "    results.append({'Scenario': f\"S0 {'+' if ds>0 else ''}{int(ds*100)}%\", 'S0': S0_s, 'r': r, 'sigma': sigma, 'Price': p, 'SE': se})\n",
    "\n",
    "results"
   ]
  },
  {
   "cell_type": "markdown",
   "id": "f760e946",
   "metadata": {},
   "source": [
    "### Random-path-vol: draw per-path sigma ~ N(σ, 0.01) and run vectorized simulation with antithetic pairing"
   ]
  },
  {
   "cell_type": "code",
   "execution_count": 61,
   "id": "a979cb24",
   "metadata": {},
   "outputs": [
    {
     "data": {
      "text/plain": [
       "[{'Scenario': 'Vol +100bps',\n",
       "  'S0': 1235.0,\n",
       "  'r': 0.12,\n",
       "  'sigma': 0.21000000000000002,\n",
       "  'Price': 0.612758960313515,\n",
       "  'SE': 0.012768608661689584},\n",
       " {'Scenario': 'Vol -100bps',\n",
       "  'S0': 1235.0,\n",
       "  'r': 0.12,\n",
       "  'sigma': 0.19,\n",
       "  'Price': 0.2621891108535402,\n",
       "  'SE': 0.008060072858695826},\n",
       " {'Scenario': 'Rate +100bps',\n",
       "  'S0': 1235.0,\n",
       "  'r': 0.13,\n",
       "  'sigma': 0.2,\n",
       "  'Price': 0.4705707352602425,\n",
       "  'SE': 0.011171610927095822},\n",
       " {'Scenario': 'Rate -100bps',\n",
       "  'S0': 1235.0,\n",
       "  'r': 0.11,\n",
       "  'sigma': 0.2,\n",
       "  'Price': 0.3635532861617817,\n",
       "  'SE': 0.009857702579214474},\n",
       " {'Scenario': 'S0 +5%',\n",
       "  'S0': 1296.75,\n",
       "  'r': 0.12,\n",
       "  'sigma': 0.2,\n",
       "  'Price': 1.2461046753159517,\n",
       "  'SE': 0.014518055649042497},\n",
       " {'Scenario': 'S0 -5%',\n",
       "  'S0': 1173.25,\n",
       "  'r': 0.12,\n",
       "  'sigma': 0.2,\n",
       "  'Price': 0.11048867244945139,\n",
       "  'SE': 0.005629658142399387},\n",
       " {'Scenario': 'Random-path-vol (σ~N(σ,0.01))',\n",
       "  'S0': 1235.0,\n",
       "  'r': 0.12,\n",
       "  'sigma': nan,\n",
       "  'Price': 0.4172137611714579,\n",
       "  'SE': 0.009664842824681979}]"
      ]
     },
     "execution_count": 61,
     "metadata": {},
     "output_type": "execute_result"
    }
   ],
   "source": [
    "rng_rpv = np.random.default_rng(seed + 999)\n",
    "half_local = n_paths // 2\n",
    "Z_half = rng_rpv.standard_normal(size=(half_local, n_obs))\n",
    "Z_rpv = np.vstack([Z_half, -Z_half])\n",
    "\n",
    "sigma_paths_half = rng_rpv.normal(loc=sigma, scale=0.01, size=half_local)\n",
    "sigma_paths = np.concatenate([sigma_paths_half, sigma_paths_half])\n",
    "\n",
    "# build matrices\n",
    "DRIFT = (r - 0.5 * (sigma_paths[:, None]**2)) * dt[np.newaxis, :]\n",
    "DIFF = (sigma_paths[:, None]) * sqrt_dt[np.newaxis, :]\n",
    "\n",
    "log_increments_rpv = DRIFT + DIFF * Z_rpv\n",
    "logS_rpv = np.cumsum(log_increments_rpv, axis=1)\n",
    "logS_rpv = np.log(S0) + logS_rpv\n",
    "S_paths_rpv = np.exp(logS_rpv)\n",
    "\n",
    "arith_avg_rpv = S_paths_rpv.mean(axis=1)\n",
    "geo_avg_rpv = np.exp(np.mean(np.log(S_paths_rpv), axis=1))\n",
    "\n",
    "discount_rpv = math.exp(-r * times[-1])\n",
    "pay_rpv = discount_rpv * np.maximum(arith_avg_rpv - K, 0.0)\n",
    "pay_geo_rpv = discount_rpv * np.maximum(geo_avg_rpv - K, 0.0)\n",
    "\n",
    "cov_rpv = np.cov(pay_rpv, pay_geo_rpv, bias=True)[0, 1]\n",
    "var_geo_rpv = np.var(pay_geo_rpv)\n",
    "b_rpv = cov_rpv / var_geo_rpv if var_geo_rpv > 0 else 0.0\n",
    "geo_analytic_rpv = geometric_asian_call_price(S0, K, r, sigma, times)\n",
    "adjusted_rpv = pay_rpv - b_rpv * (pay_geo_rpv - geo_analytic_rpv)\n",
    "\n",
    "price_rpv = float(adjusted_rpv.mean())\n",
    "se_rpv = float(adjusted_rpv.std(ddof=1) / math.sqrt(len(adjusted_rpv)))\n",
    "\n",
    "results.append({'Scenario': 'Random-path-vol (σ~N(σ,0.01))', 'S0': S0, 'r': r, 'sigma': np.nan, 'Price': price_rpv, 'SE': se_rpv})\n",
    "\n",
    "results"
   ]
  },
  {
   "cell_type": "markdown",
   "id": "f7a113c0",
   "metadata": {},
   "source": [
    "## 8 — results\n",
    "Combine base row and the stress scenario results into a DataFrame and show diffs vs base."
   ]
  },
  {
   "cell_type": "code",
   "execution_count": 62,
   "id": "aeb56e56",
   "metadata": {},
   "outputs": [
    {
     "data": {
      "text/html": [
       "<div>\n",
       "<style scoped>\n",
       "    .dataframe tbody tr th:only-of-type {\n",
       "        vertical-align: middle;\n",
       "    }\n",
       "\n",
       "    .dataframe tbody tr th {\n",
       "        vertical-align: top;\n",
       "    }\n",
       "\n",
       "    .dataframe thead th {\n",
       "        text-align: right;\n",
       "    }\n",
       "</style>\n",
       "<table border=\"1\" class=\"dataframe\">\n",
       "  <thead>\n",
       "    <tr style=\"text-align: right;\">\n",
       "      <th></th>\n",
       "      <th>Scenario</th>\n",
       "      <th>S0</th>\n",
       "      <th>r</th>\n",
       "      <th>sigma</th>\n",
       "      <th>Price</th>\n",
       "      <th>SE</th>\n",
       "      <th>Diff_vs_Base</th>\n",
       "      <th>PctDiff_vs_Base</th>\n",
       "    </tr>\n",
       "  </thead>\n",
       "  <tbody>\n",
       "    <tr>\n",
       "      <th>0</th>\n",
       "      <td>Base</td>\n",
       "      <td>1,235.000000</td>\n",
       "      <td>0.120000</td>\n",
       "      <td>0.200000</td>\n",
       "      <td>0.414135</td>\n",
       "      <td>0.010569</td>\n",
       "      <td>0.000000</td>\n",
       "      <td>0.000000</td>\n",
       "    </tr>\n",
       "    <tr>\n",
       "      <th>1</th>\n",
       "      <td>Vol +100bps</td>\n",
       "      <td>1,235.000000</td>\n",
       "      <td>0.120000</td>\n",
       "      <td>0.210000</td>\n",
       "      <td>0.612759</td>\n",
       "      <td>0.012769</td>\n",
       "      <td>0.198624</td>\n",
       "      <td>47.961096</td>\n",
       "    </tr>\n",
       "    <tr>\n",
       "      <th>2</th>\n",
       "      <td>Vol -100bps</td>\n",
       "      <td>1,235.000000</td>\n",
       "      <td>0.120000</td>\n",
       "      <td>0.190000</td>\n",
       "      <td>0.262189</td>\n",
       "      <td>0.008060</td>\n",
       "      <td>-0.151946</td>\n",
       "      <td>-36.689970</td>\n",
       "    </tr>\n",
       "    <tr>\n",
       "      <th>3</th>\n",
       "      <td>Rate +100bps</td>\n",
       "      <td>1,235.000000</td>\n",
       "      <td>0.130000</td>\n",
       "      <td>0.200000</td>\n",
       "      <td>0.470571</td>\n",
       "      <td>0.011172</td>\n",
       "      <td>0.056436</td>\n",
       "      <td>13.627325</td>\n",
       "    </tr>\n",
       "    <tr>\n",
       "      <th>4</th>\n",
       "      <td>Rate -100bps</td>\n",
       "      <td>1,235.000000</td>\n",
       "      <td>0.110000</td>\n",
       "      <td>0.200000</td>\n",
       "      <td>0.363553</td>\n",
       "      <td>0.009858</td>\n",
       "      <td>-0.050582</td>\n",
       "      <td>-12.213862</td>\n",
       "    </tr>\n",
       "    <tr>\n",
       "      <th>5</th>\n",
       "      <td>S0 +5%</td>\n",
       "      <td>1,296.750000</td>\n",
       "      <td>0.120000</td>\n",
       "      <td>0.200000</td>\n",
       "      <td>1.246105</td>\n",
       "      <td>0.014518</td>\n",
       "      <td>0.831969</td>\n",
       "      <td>200.893215</td>\n",
       "    </tr>\n",
       "    <tr>\n",
       "      <th>6</th>\n",
       "      <td>S0 -5%</td>\n",
       "      <td>1,173.250000</td>\n",
       "      <td>0.120000</td>\n",
       "      <td>0.200000</td>\n",
       "      <td>0.110489</td>\n",
       "      <td>0.005630</td>\n",
       "      <td>-0.303647</td>\n",
       "      <td>-73.320627</td>\n",
       "    </tr>\n",
       "    <tr>\n",
       "      <th>7</th>\n",
       "      <td>Random-path-vol (σ~N(σ,0.01))</td>\n",
       "      <td>1,235.000000</td>\n",
       "      <td>0.120000</td>\n",
       "      <td>NaN</td>\n",
       "      <td>0.417214</td>\n",
       "      <td>0.009665</td>\n",
       "      <td>0.003079</td>\n",
       "      <td>0.743375</td>\n",
       "    </tr>\n",
       "  </tbody>\n",
       "</table>\n",
       "</div>"
      ],
      "text/plain": [
       "                        Scenario           S0        r    sigma    Price  \\\n",
       "0                           Base 1,235.000000 0.120000 0.200000 0.414135   \n",
       "1                    Vol +100bps 1,235.000000 0.120000 0.210000 0.612759   \n",
       "2                    Vol -100bps 1,235.000000 0.120000 0.190000 0.262189   \n",
       "3                   Rate +100bps 1,235.000000 0.130000 0.200000 0.470571   \n",
       "4                   Rate -100bps 1,235.000000 0.110000 0.200000 0.363553   \n",
       "5                         S0 +5% 1,296.750000 0.120000 0.200000 1.246105   \n",
       "6                         S0 -5% 1,173.250000 0.120000 0.200000 0.110489   \n",
       "7  Random-path-vol (σ~N(σ,0.01)) 1,235.000000 0.120000      NaN 0.417214   \n",
       "\n",
       "        SE  Diff_vs_Base  PctDiff_vs_Base  \n",
       "0 0.010569      0.000000         0.000000  \n",
       "1 0.012769      0.198624        47.961096  \n",
       "2 0.008060     -0.151946       -36.689970  \n",
       "3 0.011172      0.056436        13.627325  \n",
       "4 0.009858     -0.050582       -12.213862  \n",
       "5 0.014518      0.831969       200.893215  \n",
       "6 0.005630     -0.303647       -73.320627  \n",
       "7 0.009665      0.003079         0.743375  "
      ]
     },
     "execution_count": 62,
     "metadata": {},
     "output_type": "execute_result"
    }
   ],
   "source": [
    "# base row\n",
    "base_row = {'Scenario': 'Base', 'S0': S0, 'r': r, 'sigma': sigma, 'Price': price_est, 'SE': stderr}\n",
    "all_rows = [base_row] + results\n",
    "df = pd.DataFrame(all_rows)\n",
    "df['Diff_vs_Base'] = df['Price'] - price_est\n",
    "df['PctDiff_vs_Base'] = df['Diff_vs_Base'] / price_est * 100.0\n",
    "pd.options.display.float_format = '{:,.6f}'.format\n",
    "\n",
    "df"
   ]
  },
  {
   "cell_type": "code",
   "execution_count": null,
   "id": "97e2bd77",
   "metadata": {},
   "outputs": [],
   "source": []
  },
  {
   "cell_type": "code",
   "execution_count": null,
   "id": "0cd13fe8",
   "metadata": {},
   "outputs": [],
   "source": []
  },
  {
   "cell_type": "code",
   "execution_count": null,
   "id": "213d7c78",
   "metadata": {},
   "outputs": [],
   "source": []
  }
 ],
 "metadata": {
  "kernelspec": {
   "display_name": "Python 3 (ipykernel)",
   "language": "python",
   "name": "python3"
  },
  "language_info": {
   "codemirror_mode": {
    "name": "ipython",
    "version": 3
   },
   "file_extension": ".py",
   "mimetype": "text/x-python",
   "name": "python",
   "nbconvert_exporter": "python",
   "pygments_lexer": "ipython3",
   "version": "3.10.9"
  }
 },
 "nbformat": 4,
 "nbformat_minor": 5
}
