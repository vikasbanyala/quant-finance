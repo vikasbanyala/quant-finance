{
 "cells": [
  {
   "cell_type": "code",
   "execution_count": 1,
   "id": "4b3d3021",
   "metadata": {},
   "outputs": [],
   "source": [
    "import QuantLib as ql\n",
    "from scipy.interpolate import interp1d\n",
    "import numpy as np\n",
    "import pandas as pd\n",
    "import matplotlib.pyplot as plt\n",
    "\n",
    "# Set display options for better readability\n",
    "pd.options.display.float_format = \"{:,.2f}\".format\n",
    "plt.style.use('seaborn-v0_8')"
   ]
  },
  {
   "cell_type": "markdown",
   "id": "551bfd43",
   "metadata": {},
   "source": [
    "# Market Data Setup"
   ]
  },
  {
   "cell_type": "code",
   "execution_count": 3,
   "id": "b13e5462",
   "metadata": {},
   "outputs": [],
   "source": [
    "\n",
    "t = np.array([0, 0.3, 0.6, 0.9, 1.2, 1.5, 1.8, 2.1, 2.4, 2.7, 3.0, 3.3])\n",
    "zero_rates_base = np.array([0.0, 0.0673, 0.0855, 0.0926, 0.0971, 0.1005,\n",
    "                            0.1035, 0.1063, 0.1089, 0.1115, 0.1142, 0.1169])\n",
    "\n",
    "# Set up calendar and trade dates\n",
    "calendar = ql.WeekendsOnly()\n",
    "trade_date = ql.Date(15, 11, 2023)\n",
    "maturity_date = ql.Date(15, 11, 2026)\n",
    "ql.Settings.instance().evaluationDate = trade_date\n",
    "\n",
    "# Swap contract details\n",
    "notional = 1_000_000\n",
    "fixed_rate = 0.1141  # 11.41%\n",
    "accrual_conv = 365  # day count convention\n",
    "period = ql.Period(\"3M\")  # quarterly payments"
   ]
  },
  {
   "cell_type": "markdown",
   "id": "ced0ea0e",
   "metadata": {},
   "source": [
    "# Swap Valuation Function"
   ]
  },
  {
   "cell_type": "code",
   "execution_count": 5,
   "id": "c20b7cee",
   "metadata": {},
   "outputs": [],
   "source": [
    "def value_payer_swap(zero_rates, scenario_name):\n",
    "   \n",
    "    discount_factor = np.exp(-zero_rates * t)\n",
    "    \n",
    "    \n",
    "    schedule = ql.MakeSchedule(trade_date, maturity_date, period,\n",
    "                               calendar=calendar, convention=ql.Following)\n",
    "    dates = list(schedule)\n",
    "    year_frac = [(d - trade_date) / accrual_conv for d in dates]\n",
    "    \n",
    "    \n",
    "    interp = interp1d(t, discount_factor, kind='linear', fill_value=\"extrapolate\")\n",
    "    interp_df = np.array([float(interp(y)) for y in year_frac])\n",
    "    \n",
    " \n",
    "    forward = [0.0]\n",
    "    for i in range(1, len(dates)):\n",
    "        dt = year_frac[i] - year_frac[i-1]\n",
    "        fwd = (interp_df[i-1] / interp_df[i] - 1.0) / dt if interp_df[i] > 0 and dt > 0 else 0.0\n",
    "        forward.append(fwd)\n",
    "    \n",
    "    # Calculate cash flows\n",
    "    fixed_cf, float_cf = [0.0], [0.0]\n",
    "    for i in range(1, len(dates)):\n",
    "        dt = year_frac[i] - year_frac[i-1]\n",
    "        fixed_cf.append(notional * fixed_rate * dt)\n",
    "        float_cf.append(notional * forward[i] * dt)\n",
    "    \n",
    "    # Calculate present values\n",
    "    pv_fixed = float(np.sum(np.array(fixed_cf) * interp_df))\n",
    "    pv_float = float(np.sum(np.array(float_cf) * interp_df))\n",
    "    pv_swap_payer = pv_float - pv_fixed\n",
    "    \n",
    "    # cash flow table\n",
    "    cf_table = pd.DataFrame({\n",
    "        \"Date\": dates,\n",
    "        \"YearFrac\": year_frac,\n",
    "        \"DF\": interp_df,\n",
    "        \"Forward\": forward,\n",
    "        \"FixedCF\": fixed_cf,\n",
    "        \"FloatCF\": float_cf,\n",
    "        \"PV_FixedCF\": np.array(fixed_cf) * interp_df,\n",
    "        \"PV_FloatCF\": np.array(float_cf) * interp_df\n",
    "    })\n",
    "    \n",
    "    return pv_fixed, pv_float, pv_swap_payer, cf_table"
   ]
  },
  {
   "cell_type": "markdown",
   "id": "5083d980",
   "metadata": {},
   "source": [
    "# Base Case Valuation"
   ]
  },
  {
   "cell_type": "code",
   "execution_count": 6,
   "id": "9d4168c1",
   "metadata": {},
   "outputs": [
    {
     "name": "stdout",
     "output_type": "stream",
     "text": [
      "Swap valuation assumptions:\n",
      "PAYER swap (pay fixed @ 11.41%, receive float)\n",
      "Notional = 1,000,000\n",
      "Trade date: November 15th, 2023\n",
      "Maturity date: November 15th, 2026\n",
      "Day count: Actual/365\n",
      "Payment frequency: 3M\n",
      "\n",
      "Base Scenario Results:\n",
      "PV Fixed Leg: 290,480.57\n",
      "PV Floating Leg: 290,625.73\n",
      "Swap NPV: 145.17\n"
     ]
    }
   ],
   "source": [
    "# Base case valuation\n",
    "pv_fixed_base, pv_float_base, pv_swap_base, cf_base = value_payer_swap(zero_rates_base, \"Base\")\n",
    "\n",
    "print(\"Swap valuation assumptions:\")\n",
    "print(f\"PAYER swap (pay fixed @ {fixed_rate:.2%}, receive float)\")\n",
    "print(f\"Notional = {notional:,}\")\n",
    "print(f\"Trade date: {trade_date}\")\n",
    "print(f\"Maturity date: {maturity_date}\")\n",
    "print(f\"Day count: Actual/{accrual_conv}\")\n",
    "print(f\"Payment frequency: {period}\")\n",
    "print(\"\\nBase Scenario Results:\")\n",
    "print(f\"PV Fixed Leg: {pv_fixed_base:,.2f}\")\n",
    "print(f\"PV Floating Leg: {pv_float_base:,.2f}\") \n",
    "print(f\"Swap NPV: {pv_swap_base:,.2f}\")"
   ]
  },
  {
   "cell_type": "markdown",
   "id": "902a8514",
   "metadata": {},
   "source": [
    "# Stress Testing Scenarios"
   ]
  },
  {
   "cell_type": "markdown",
   "id": "6c182b91",
   "metadata": {},
   "source": [
    "## 1. Parallel shift down (-50 bps)"
   ]
  },
  {
   "cell_type": "code",
   "execution_count": 8,
   "id": "356c656d",
   "metadata": {},
   "outputs": [],
   "source": [
    "\n",
    "results_list = []\n",
    "\n",
    "# Add base case to results\n",
    "results_list.append({\n",
    "    \"Scenario\": \"Base\",\n",
    "    \"PV_Fixed\": pv_fixed_base,\n",
    "    \"PV_Float\": pv_float_base,\n",
    "    \"PV_Swap\": pv_swap_base\n",
    "})\n",
    "\n",
    "# 1. Parallel shift down (-50 bps)\n",
    "shift = -0.005\n",
    "zero_rates_parallel_down = zero_rates_base + shift\n",
    "pv_fixed_par_down, pv_float_par_down, pv_swap_par_down, _ = value_payer_swap(zero_rates_parallel_down, \"Parallel Shift Down\")\n",
    "results_list.append({\n",
    "    \"Scenario\": f\"Parallel Shift {shift:+.2%}\",\n",
    "    \"PV_Fixed\": pv_fixed_par_down,\n",
    "    \"PV_Float\": pv_float_par_down,\n",
    "    \"PV_Swap\": pv_swap_par_down\n",
    "})\n",
    "\n"
   ]
  },
  {
   "cell_type": "markdown",
   "id": "4e4c8224",
   "metadata": {},
   "source": [
    "## 2. Parallel shift up (+50 bps)"
   ]
  },
  {
   "cell_type": "code",
   "execution_count": 9,
   "id": "3f756041",
   "metadata": {},
   "outputs": [],
   "source": [
    "\n",
    "shift = 0.005\n",
    "zero_rates_parallel_up = zero_rates_base + shift\n",
    "pv_fixed_par_up, pv_float_par_up, pv_swap_par_up, _ = value_payer_swap(zero_rates_parallel_up, \"Parallel Shift Up\")\n",
    "results_list.append({\n",
    "    \"Scenario\": f\"Parallel Shift {shift:+.2%}\",\n",
    "    \"PV_Fixed\": pv_fixed_par_up,\n",
    "    \"PV_Float\": pv_float_par_up,\n",
    "    \"PV_Swap\": pv_swap_par_up\n",
    "})\n",
    "\n"
   ]
  },
  {
   "cell_type": "markdown",
   "id": "d39968de",
   "metadata": {},
   "source": [
    "## 3. Steepener (short rates down, long rates up)"
   ]
  },
  {
   "cell_type": "code",
   "execution_count": 11,
   "id": "399a6e21",
   "metadata": {},
   "outputs": [],
   "source": [
    "\n",
    "zero_rates_steepener = zero_rates_base.copy()\n",
    "zero_rates_steepener[:4] -= 0.01  # Short end down 100 bps\n",
    "zero_rates_steepener[-4:] += 0.01  # Long end up 100 bps\n",
    "pv_fixed_steep, pv_float_steep, pv_swap_steep, _ = value_payer_swap(zero_rates_steepener, \"Steepener\")\n",
    "results_list.append({\n",
    "    \"Scenario\": \"Steepener (Short↓100bps, Long↑100bps)\",\n",
    "    \"PV_Fixed\": pv_fixed_steep,\n",
    "    \"PV_Float\": pv_float_steep,\n",
    "    \"PV_Swap\": pv_swap_steep\n",
    "})\n",
    "\n"
   ]
  },
  {
   "cell_type": "markdown",
   "id": "105e89e9",
   "metadata": {},
   "source": [
    "## 4. Flattener (short rates up, long rates down)"
   ]
  },
  {
   "cell_type": "code",
   "execution_count": 13,
   "id": "d7788ef2",
   "metadata": {},
   "outputs": [],
   "source": [
    "\n",
    "zero_rates_flattener = zero_rates_base.copy()\n",
    "zero_rates_flattener[:4] += 0.01  # Short end up 100 bps\n",
    "zero_rates_flattener[-4:] -= 0.01  # Long end down 100 bps\n",
    "pv_fixed_flat, pv_float_flat, pv_swap_flat, _ = value_payer_swap(zero_rates_flattener, \"Flattener\")\n",
    "results_list.append({\n",
    "    \"Scenario\": \"Flattener (Short↑100bps, Long↓100bps)\",\n",
    "    \"PV_Fixed\": pv_fixed_flat,\n",
    "    \"PV_Float\": pv_float_flat,\n",
    "    \"PV_Swap\": pv_swap_flat\n",
    "})\n",
    "\n"
   ]
  },
  {
   "cell_type": "markdown",
   "id": "8c605580",
   "metadata": {},
   "source": [
    "## 5. Short end shock (first 4 points up 75 bps)"
   ]
  },
  {
   "cell_type": "code",
   "execution_count": 14,
   "id": "1c3c2659",
   "metadata": {},
   "outputs": [],
   "source": [
    "\n",
    "zero_rates_short = zero_rates_base.copy()\n",
    "zero_rates_short[:4] += 0.0075\n",
    "pv_fixed_short, pv_float_short, pv_swap_short, _ = value_payer_swap(zero_rates_short, \"Short End Shock\")\n",
    "results_list.append({\n",
    "    \"Scenario\": \"Short End Shock (+75bps)\",\n",
    "    \"PV_Fixed\": pv_fixed_short,\n",
    "    \"PV_Float\": pv_float_short,\n",
    "    \"PV_Swap\": pv_swap_short\n",
    "})\n",
    "\n"
   ]
  },
  {
   "cell_type": "markdown",
   "id": "af127674",
   "metadata": {},
   "source": [
    "## 6. Long end shock (last 4 points up 75 bps)"
   ]
  },
  {
   "cell_type": "code",
   "execution_count": 15,
   "id": "78f149e3",
   "metadata": {},
   "outputs": [],
   "source": [
    "\n",
    "zero_rates_long = zero_rates_base.copy()\n",
    "zero_rates_long[-4:] += 0.0075\n",
    "pv_fixed_long, pv_float_long, pv_swap_long, _ = value_payer_swap(zero_rates_long, \"Long End Shock\")\n",
    "results_list.append({\n",
    "    \"Scenario\": \"Long End Shock (+75bps)\",\n",
    "    \"PV_Fixed\": pv_fixed_long,\n",
    "    \"PV_Float\": pv_float_long,\n",
    "    \"PV_Swap\": pv_swap_long\n",
    "})\n",
    "\n"
   ]
  },
  {
   "cell_type": "markdown",
   "id": "fe374724",
   "metadata": {},
   "source": [
    "## 7. Random shock (σ=20bps)"
   ]
  },
  {
   "cell_type": "code",
   "execution_count": 16,
   "id": "ea9b4c92",
   "metadata": {},
   "outputs": [
    {
     "name": "stdout",
     "output_type": "stream",
     "text": [
      "\n",
      "--- Stress Test Results ---\n",
      "                             Scenario   PV_Fixed   PV_Float    PV_Swap  Diff_vs_Base  PctDiff_vs_Base\n",
      "                                 Base 290,480.57 290,625.73     145.17          0.00             0.00\n",
      "                Parallel Shift -0.50% 292,726.13 279,885.99 -12,840.14    -12,985.31        -8,945.05\n",
      "                Parallel Shift +0.50% 288,257.67 301,205.28  12,947.61     12,802.44         8,819.08\n",
      "Steepener (Short↓100bps, Long↑100bps) 289,073.57 311,627.01  22,553.44     22,408.27        15,436.14\n",
      "Flattener (Short↑100bps, Long↓100bps) 291,945.80 268,983.62 -22,962.17    -23,107.34       -15,917.70\n",
      "             Short End Shock (+75bps) 290,059.45 290,625.73     566.29        421.12           290.09\n",
      "              Long End Shock (+75bps) 288,996.62 306,435.72  17,439.10     17,293.93        11,913.08\n",
      "               Random Shock (σ=20bps) 290,225.74 288,646.92  -1,578.83     -1,723.99        -1,187.59\n"
     ]
    }
   ],
   "source": [
    "\n",
    "np.random.seed(42)\n",
    "rand_noise = np.random.normal(0.0, 0.002, size=zero_rates_base.shape)\n",
    "zero_rates_random = zero_rates_base + rand_noise\n",
    "pv_fixed_rand, pv_float_rand, pv_swap_rand, _ = value_payer_swap(zero_rates_random, \"Random Shock\")\n",
    "results_list.append({\n",
    "    \"Scenario\": \"Random Shock (σ=20bps)\",\n",
    "    \"PV_Fixed\": pv_fixed_rand,\n",
    "    \"PV_Float\": pv_float_rand,\n",
    "    \"PV_Swap\": pv_swap_rand\n",
    "})\n",
    "\n",
    "# Convert results to DataFrame\n",
    "results = pd.DataFrame(results_list)\n",
    "results[\"Diff_vs_Base\"] = results[\"PV_Swap\"] - pv_swap_base\n",
    "results[\"PctDiff_vs_Base\"] = results[\"Diff_vs_Base\"] / abs(pv_swap_base) * 100\n",
    "\n",
    "print(\"\\n--- Stress Test Results ---\")\n",
    "print(results.to_string(index=False))"
   ]
  },
  {
   "cell_type": "code",
   "execution_count": null,
   "id": "87194b55",
   "metadata": {},
   "outputs": [],
   "source": []
  }
 ],
 "metadata": {
  "kernelspec": {
   "display_name": "Python 3 (ipykernel)",
   "language": "python",
   "name": "python3"
  },
  "language_info": {
   "codemirror_mode": {
    "name": "ipython",
    "version": 3
   },
   "file_extension": ".py",
   "mimetype": "text/x-python",
   "name": "python",
   "nbconvert_exporter": "python",
   "pygments_lexer": "ipython3",
   "version": "3.10.9"
  }
 },
 "nbformat": 4,
 "nbformat_minor": 5
}
