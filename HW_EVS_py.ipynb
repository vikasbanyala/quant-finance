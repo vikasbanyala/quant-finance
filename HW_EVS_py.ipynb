{
 "cells": [
  {
   "cell_type": "markdown",
   "id": "69d5b331",
   "metadata": {},
   "source": [
    "# Hull‑White 1F Calibration Notebook (Comparison of Market PV vs Model PV)\n",
    "\n",
    "This notebook runs a calibration of a one‑factor Hull‑White model to co‑terminal ATM swaption volatilities\n",
    "and compares market present values (PVs) to model PVs under three calibration settings.\n"
   ]
  },
  {
   "cell_type": "markdown",
   "id": "63e21700",
   "metadata": {},
   "source": [
    "## Importing libraries"
   ]
  },
  {
   "cell_type": "code",
   "execution_count": null,
   "id": "67e2ac13",
   "metadata": {},
   "outputs": [],
   "source": [
    "from QuantLib import *\n",
    "import math\n",
    "import sys\n",
    "import statistics\n"
   ]
  },
  {
   "cell_type": "markdown",
   "id": "8b887407",
   "metadata": {},
   "source": [
    "## Market inputs\n",
    "\n",
    "Provide the market inputs (swaption volatilities and zero rates) used for calibration."
   ]
  },
  {
   "cell_type": "code",
   "execution_count": null,
   "id": "c24e6f88",
   "metadata": {},
   "outputs": [],
   "source": [
    "# User market data\n",
    "market_vols_pct = [24.4, 24.08, 23.64, 23.3, 22.84]  # 1x5,2x4,3x3,4x2,5x1 (percent)\n",
    "market_vols = [v / 100.0 for v in market_vols_pct]\n",
    "\n",
    "# Zero rates (annual, in percent) at 1y..6y\n",
    "zero_rates_pct = {1: 3.98, 2: 3.65, 3: 3.52, 4: 3.50, 5: 3.55, 6: 3.61}\n",
    "zero_rates = {k: v / 100.0 for k, v in zero_rates_pct.items()}\n"
   ]
  },
  {
   "cell_type": "markdown",
   "id": "8364016c",
   "metadata": {},
   "source": [
    "## Dates, calendar and daycount\n",
    "\n",
    "\n",
    "Set evaluation date, calendar and day count conventions; build a simple zero curve that extends beyond swaption maturities and enable extrapolation if necessary."
   ]
  },
  {
   "cell_type": "code",
   "execution_count": null,
   "id": "7b3607b2",
   "metadata": {},
   "outputs": [],
   "source": [
    "tradeDate = Date(12, September, 2025)\n",
    "Settings.instance().evaluationDate = tradeDate\n",
    "settlementDate = tradeDate\n",
    "calendar = TARGET()\n",
    "dayCounter = Actual365Fixed()\n"
   ]
  },
  {
   "cell_type": "markdown",
   "id": "93669c73",
   "metadata": {},
   "source": [
    "## Build zero curve and enable extrapolation\n",
    "Create co‑terminal swaption helpers (1x5, 2x4, 3x3, 4x2, 5x1) and compute market present values for each helper."
   ]
  },
  {
   "cell_type": "code",
   "execution_count": null,
   "id": "070c58fc",
   "metadata": {},
   "outputs": [],
   "source": [
    "# Build a simple zero curve and ensure it extends beyond required swaption maturities\n",
    "dates = [settlementDate]\n",
    "rates = []\n",
    "\n",
    "for year in sorted(zero_rates.keys()):\n",
    "    d = calendar.advance(settlementDate, Period(year, Years))\n",
    "    dates.append(d)\n",
    "    rates.append(zero_rates[year])\n",
    "\n",
    "# Add extra long point (10y)\n",
    "long_year = 10\n",
    "long_date = calendar.advance(settlementDate, Period(long_year, Years))\n",
    "dates.append(long_date)\n",
    "rates.append(rates[-1])\n",
    "\n",
    "zc = ZeroCurve(dates[1:], rates, dayCounter, calendar)\n",
    "# enable extrapolation\n",
    "try:\n",
    "    zc.enableExtrapolation()\n",
    "except Exception:\n",
    "    pass\n",
    "\n",
    "term_structure = YieldTermStructureHandle(zc)\n",
    "try:\n",
    "    term_structure.enableExtrapolation(True)\n",
    "except Exception:\n",
    "    pass\n"
   ]
  },
  {
   "cell_type": "markdown",
   "id": "695d2f53",
   "metadata": {},
   "source": [
    "## Create co‑terminal swaption helpers and compute market PVs\n",
    "\n",
    "Create co‑terminal swaption helpers (1x5, 2x4, 3x3, 4x2, 5x1) and compute market present values for each helper."
   ]
  },
  {
   "cell_type": "code",
   "execution_count": null,
   "id": "43c23da0",
   "metadata": {},
   "outputs": [],
   "source": [
    "helpers = []\n",
    "n = len(market_vols)\n",
    "index = USDLibor(Period(3, Months), term_structure)\n",
    "\n",
    "for i in range(n):\n",
    "    exercise_years = i + 1\n",
    "    tenor_years = n - i\n",
    "    vol = market_vols[i]\n",
    "    helper = SwaptionHelper(\n",
    "        Period(exercise_years, Years),\n",
    "        Period(tenor_years, Years),\n",
    "        QuoteHandle(SimpleQuote(vol)),\n",
    "        index,\n",
    "        Period(1, Years),    # fixed leg tenor = annual\n",
    "        dayCounter,\n",
    "        dayCounter,\n",
    "        term_structure\n",
    "    )\n",
    "    helpers.append(helper)\n",
    "\n",
    "# Save market PVs now (marketValue is independent of model engines)\n",
    "market_pvs = []\n",
    "for i, h in enumerate(helpers):\n",
    "    try:\n",
    "        mv = h.marketValue()\n",
    "    except Exception as e:\n",
    "        mv = None\n",
    "        print(f\"Warning: could not compute market PV for helper {i+1}: {e}\")\n",
    "    market_pvs.append(mv)\n"
   ]
  },
  {
   "cell_type": "markdown",
   "id": "accb316d",
   "metadata": {},
   "source": [
    "## Define calibration wrapper\n",
    "Define a simple calibrator class that wraps the calibration routine and assigns the pricing engine to helpers."
   ]
  },
  {
   "cell_type": "code",
   "execution_count": null,
   "id": "421b5734",
   "metadata": {},
   "outputs": [],
   "source": [
    "class ModelCalibrator:\n",
    "    def __init__(self, endCriteria):\n",
    "        self.endCriteria = endCriteria\n",
    "        self.helpers = []\n",
    "\n",
    "    def AddCalibrationHelper(self, helper):\n",
    "        self.helpers.append(helper)\n",
    "\n",
    "    def Calibrate(self, model, engine, curve, fixedParameters):\n",
    "        # assign pricing engine to all calibration helpers\n",
    "        for h in self.helpers:\n",
    "            h.setPricingEngine(engine)\n",
    "        method = LevenbergMarquardt()\n",
    "        if len(fixedParameters) == 0:\n",
    "            model.calibrate(self.helpers, method, self.endCriteria)\n",
    "        else:\n",
    "            model.calibrate(self.helpers, method, self.endCriteria,\n",
    "                            NoConstraint(), [], fixedParameters)\n"
   ]
  },
  {
   "cell_type": "markdown",
   "id": "76bfc83f",
   "metadata": {},
   "source": [
    "## Helper to compute model PVs\n",
    "Define a helper to compute model PVs for a given calibrated model."
   ]
  },
  {
   "cell_type": "code",
   "execution_count": null,
   "id": "3000c559",
   "metadata": {},
   "outputs": [],
   "source": [
    "def compute_model_pvs_for_model(model):\n",
    "    engine = JamshidianSwaptionEngine(model)\n",
    "    model_pvs = []\n",
    "    for h in helpers:\n",
    "        # ensure pricing engine for modelValue()\n",
    "        h.setPricingEngine(engine)\n",
    "        try:\n",
    "            pv = h.modelValue()\n",
    "        except Exception as e:\n",
    "            pv = None\n",
    "            print(f\"Error computing model PV for helper: {e}\")\n",
    "        model_pvs.append(pv)\n",
    "    return model_pvs\n"
   ]
  },
  {
   "cell_type": "markdown",
   "id": "9f9d77f3",
   "metadata": {},
   "source": [
    "## Calibrate and compare (three cases)\n",
    "Run three calibration cases, compute model PVs for each and display a comparison table of market PV vs model PV and absolute differences."
   ]
  },
  {
   "cell_type": "code",
   "execution_count": null,
   "id": "0667b2c3",
   "metadata": {},
   "outputs": [],
   "source": [
    "endCriteria = EndCriteria(1000, 100, 1e-8, 1e-8, 1e-8)\n",
    "calibrator = ModelCalibrator(endCriteria)\n",
    "for h in helpers:\n",
    "    calibrator.AddCalibrationHelper(h)\n",
    "\n",
    "def calibrate_and_compare(model, fixedParameters, label):\n",
    "    # Use Jamshidian engine during calibration (as in sample)\n",
    "    engine = JamshidianSwaptionEngine(model)\n",
    "    try:\n",
    "        calibrator.Calibrate(model, engine, term_structure, fixedParameters)\n",
    "    except Exception as e:\n",
    "        print(f\"{label} calibration failed: {e}\")\n",
    "        return\n",
    "\n",
    "    # compute model PVs after calibration\n",
    "    model_pvs = compute_model_pvs_for_model(model)\n",
    "\n",
    "    # print comparison table\n",
    "    print(\"\\n\" + \"=\"*70)\n",
    "    print(f\"{label}  --> calibrated params: a = {model.params()[0]:.8f}, sigma = {model.params()[1]:.8f}\")\n",
    "    print(\"-\"*70)\n",
    "    print(\"{:8s} {:10s} {:16s} {:16s} {:12s}\".format(\"Swap\", \"MktVol\", \"MarketPV\", \"ModelPV\", \"AbsDiff\"))\n",
    "    print(\"-\"*70)\n",
    "    diffs = []\n",
    "    for i in range(len(helpers)):\n",
    "        swap_label = f\"{i+1}x{n-i}\"\n",
    "        mvol = market_vols[i]\n",
    "        mPV = market_pvs[i]\n",
    "        moPV = model_pvs[i]\n",
    "        if (mPV is None) or (moPV is None):\n",
    "            diff = None\n",
    "            diff_str = \"N/A\"\n",
    "            mPV_str = \"N/A\" if mPV is None else f\"{mPV:.8f}\"\n",
    "            moPV_str = \"N/A\" if moPV is None else f\"{moPV:.8f}\"\n",
    "        else:\n",
    "            diff = abs(moPV - mPV)\n",
    "            diffs.append(diff)\n",
    "            diff_str = f\"{diff:.8e}\"\n",
    "            mPV_str = f\"{mPV:.8f}\"\n",
    "            moPV_str = f\"{moPV:.8f}\"\n",
    "        print(\"{:8s} {:10.4f} {:16s} {:16s} {:12s}\".format(swap_label, mvol, mPV_str, moPV_str, diff_str))\n",
    "\n",
    "    # RMS error\n",
    "    if len(diffs) > 0:\n",
    "        rms = math.sqrt(sum(d*d for d in diffs) / len(diffs))\n",
    "        print(\"-\"*70)\n",
    "        print(f\"RMS absolute PV error for {label}: {rms:.8e}\")\n",
    "    else:\n",
    "        print(\"No valid diffs to compute RMS.\")\n",
    "\n",
    "# Case 1: calibrate both a and sigma\n",
    "print(\"\\nCase 1: calibrate both parameters (a and sigma)\")\n",
    "model_case1 = HullWhite(term_structure)   # default starting params\n",
    "calibrate_and_compare(model_case1, [], \"Case 1 (a and sigma free)\")\n",
    "\n",
    "# Case 2: fix mean reversion a = 0.05, calibrate sigma\n",
    "print(\"\\nCase 2: fix a=0.05, calibrate sigma\")\n",
    "model_case2 = HullWhite(term_structure, 0.05, 0.01)  # starting sigma 0.01\n",
    "calibrate_and_compare(model_case2, [True, False], \"Case 2 (fix a=0.05, sigma free)\")\n",
    "\n",
    "# Case 3: fix sigma = 0.01, calibrate a\n",
    "print(\"\\nCase 3: fix sigma=0.01, calibrate a\")\n",
    "model_case3 = HullWhite(term_structure, 0.05, 0.01)\n",
    "calibrate_and_compare(model_case3, [False, True], \"Case 3 (fix sigma=0.01, a free)\")\n"
   ]
  },
  {
   "cell_type": "markdown",
   "id": "6b2bdcfd",
   "metadata": {},
   "source": [
    "## Summary of outputs"
   ]
  },
  {
   "cell_type": "markdown",
   "id": "ce454679",
   "metadata": {},
   "source": [
    "- Calibrated Hull‑White parameters (mean‑reversion and sigma) for each of three cases.\n",
    "- A comparison table for each case showing: market volatility, market PV, model PV, and absolute PV difference for each swaption helper.\n",
    "- RMS absolute PV error for each calibration case.\n"
   ]
  }
 ],
 "metadata": {
  "kernelspec": {
   "display_name": "Python 3 (ipykernel)",
   "language": "python",
   "name": "python3"
  },
  "language_info": {
   "codemirror_mode": {
    "name": "ipython",
    "version": 3
   },
   "file_extension": ".py",
   "mimetype": "text/x-python",
   "name": "python",
   "nbconvert_exporter": "python",
   "pygments_lexer": "ipython3",
   "version": "3.10.9"
  }
 },
 "nbformat": 4,
 "nbformat_minor": 5
}
