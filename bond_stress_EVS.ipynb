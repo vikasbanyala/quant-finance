{
 "cells": [
  {
   "cell_type": "markdown",
   "id": "0580a866",
   "metadata": {},
   "source": [
    "# Bond valuation\n"
   ]
  },
  {
   "cell_type": "markdown",
   "id": "c907ae1d",
   "metadata": {},
   "source": [
    "## 1 — Imports\n",
    "Import necessary packages: QuantLib (for dates), NumPy, SciPy interp1d, pandas."
   ]
  },
  {
   "cell_type": "code",
   "execution_count": 1,
   "id": "cd987f0c",
   "metadata": {},
   "outputs": [],
   "source": [
    "import QuantLib as ql\n",
    "from scipy.interpolate import interp1d\n",
    "import numpy as np\n",
    "import pandas as pd\n",
    "import math\n"
   ]
  },
  {
   "cell_type": "markdown",
   "id": "5c0d6ba0",
   "metadata": {},
   "source": [
    "## 2 — Dates setup\n",
    "Define trade, settlement and maturity dates used for the bond schedule."
   ]
  },
  {
   "cell_type": "code",
   "execution_count": 2,
   "id": "f663151b",
   "metadata": {},
   "outputs": [
    {
     "name": "stdout",
     "output_type": "stream",
     "text": [
      "Trade: August 15th, 2025 Settle: August 20th, 2025 Maturity: August 15th, 2028\n"
     ]
    }
   ],
   "source": [
    "calendar = ql.WeekendsOnly()\n",
    "trade_date = ql.Date(15, 8, 2025)\n",
    "settlement_date = calendar.advance(trade_date, ql.Period('3D'), ql.Following)\n",
    "maturity_date = ql.Date(15, 8, 2028)\n",
    "print('Trade:', trade_date, 'Settle:', settlement_date, 'Maturity:', maturity_date)"
   ]
  },
  {
   "cell_type": "markdown",
   "id": "90362d9b",
   "metadata": {},
   "source": [
    "## 3 — Zero rates input\n",
    "Provide an array of observation times (years) and base zero rates (continuously compounded)."
   ]
  },
  {
   "cell_type": "code",
   "execution_count": 3,
   "id": "525012dc",
   "metadata": {},
   "outputs": [
    {
     "name": "stdout",
     "output_type": "stream",
     "text": [
      "t: [0.  0.3 0.6 0.9 1.2 1.5 1.8 2.1 2.4 2.7 3.  3.3]\n",
      "zero_rates_base: [0.     0.0673 0.0855 0.0926 0.0971 0.1005 0.1035 0.1063 0.1089 0.1115\n",
      " 0.1142 0.1169]\n"
     ]
    }
   ],
   "source": [
    "t = np.array([0, 0.3, 0.6, 0.9, 1.2, 1.5, 1.8, 2.1, 2.4, 2.7, 3.0, 3.3])\n",
    "zero_rates_base = np.array([0.0, 0.0673, 0.0855, 0.0926, 0.0971, 0.1005,\n",
    "                            0.1035, 0.1063, 0.1089, 0.1115, 0.1142, 0.1169])\n",
    "print('t:', t)\n",
    "print('zero_rates_base:', zero_rates_base)"
   ]
  },
  {
   "cell_type": "markdown",
   "id": "ae1b5875",
   "metadata": {},
   "source": [
    "### Convert zero rates to discount factors\n",
    "DF(t) = exp(-r(t) * t). Note DF(0)=1."
   ]
  },
  {
   "cell_type": "code",
   "execution_count": 4,
   "id": "5724d4f6",
   "metadata": {},
   "outputs": [
    {
     "name": "stdout",
     "output_type": "stream",
     "text": [
      "discount_factor_base: [1.       0.980012 0.949994 0.920038 0.890012 0.860063 0.830025 0.799931\n",
      " 0.770004 0.740041 0.709922 0.679927]\n"
     ]
    }
   ],
   "source": [
    "discount_factor_base = np.exp(-zero_rates_base * t)\n",
    "print('discount_factor_base:', np.round(discount_factor_base, 6))"
   ]
  },
  {
   "cell_type": "markdown",
   "id": "6cd80d35",
   "metadata": {},
   "source": [
    "## 4 — Bond cashflow schedule\n",
    "We build a semi-annual schedule and compute cashflow times (year fractions from trade date)."
   ]
  },
  {
   "cell_type": "code",
   "execution_count": 5,
   "id": "cd51da68",
   "metadata": {},
   "outputs": [
    {
     "name": "stdout",
     "output_type": "stream",
     "text": [
      "Payment dates (first 6): [Date(15,8,2025), Date(16,2,2026), Date(17,8,2026), Date(15,2,2027), Date(16,8,2027), Date(15,2,2028)]\n",
      "Year fractions (first 6): [0.       0.506849 1.005479 1.50411  2.00274  2.50411 ]\n"
     ]
    }
   ],
   "source": [
    "schedule = ql.MakeSchedule(trade_date, maturity_date, ql.Period('6M'), calendar=calendar, convention=ql.Following)\n",
    "dates = list(schedule)\n",
    "year_frac = np.array([(d - trade_date) / 365.0 for d in dates])\n",
    "print('Payment dates (first 6):', dates[:6])\n",
    "print('Year fractions (first 6):', np.round(year_frac[:6],6))"
   ]
  },
  {
   "cell_type": "markdown",
   "id": "7e6790d2",
   "metadata": {},
   "source": [
    "### Cashflows and coupons\n",
    "Assume notional and coupon. We'll build the fixed cashflows (semi-annual) and include principal on final paydown."
   ]
  },
  {
   "cell_type": "code",
   "execution_count": 6,
   "id": "acace93d",
   "metadata": {},
   "outputs": [
    {
     "name": "stdout",
     "output_type": "stream",
     "text": [
      "Fixed cashflows (first 6): [    0. 65000. 65000. 65000. 65000. 65000.]\n"
     ]
    }
   ],
   "source": [
    "notional = 1_000_000\n",
    "coupon_rate = 0.13  # annual coupon\n",
    "# build cashflows per schedule\n",
    "fixed_cashflows = [0.0]\n",
    "for i in range(1, len(dates)-1):\n",
    "    fixed_cashflows.append(notional * coupon_rate / 2.0)\n",
    "fixed_cashflows.append(notional * coupon_rate / 2.0 + notional)\n",
    "fixed_cashflows = np.array(fixed_cashflows)\n",
    "print('Fixed cashflows (first 6):', fixed_cashflows[:6])"
   ]
  },
  {
   "cell_type": "markdown",
   "id": "f94ed711",
   "metadata": {},
   "source": [
    "### Interpolate discount factors to cashflow times\n",
    "Use linear interpolation on DF vs t to get DF at payment times."
   ]
  },
  {
   "cell_type": "code",
   "execution_count": 7,
   "id": "64b8f160",
   "metadata": {},
   "outputs": [
    {
     "name": "stdout",
     "output_type": "stream",
     "text": [
      "Discount factors at pay dates: [1.       0.959315 0.909481 0.859651 0.809687 0.759606 0.709648]\n"
     ]
    }
   ],
   "source": [
    "from scipy.interpolate import interp1d\n",
    "interp_df_func = interp1d(t, discount_factor_base, kind='linear', fill_value='extrapolate')\n",
    "df_at_pay = interp_df_func(year_frac)\n",
    "print('Discount factors at pay dates:', np.round(df_at_pay,6))"
   ]
  },
  {
   "cell_type": "markdown",
   "id": "a7ab673b",
   "metadata": {},
   "source": [
    "### Present value calculation\n",
    "PV = sum(cashflow_i * DF(t_i)). Compute PV of bond at trade date."
   ]
  },
  {
   "cell_type": "code",
   "execution_count": 8,
   "id": "6b21dcbf",
   "metadata": {},
   "outputs": [
    {
     "name": "stdout",
     "output_type": "stream",
     "text": [
      "Bond PV (base): 1035128.4132108019\n"
     ]
    }
   ],
   "source": [
    "pv_base = float(np.sum(fixed_cashflows * df_at_pay))\n",
    "print('Bond PV (base):', pv_base)"
   ]
  },
  {
   "cell_type": "markdown",
   "id": "0ef881f4",
   "metadata": {},
   "source": [
    "### Cashflow table (base scenario)\n",
    "Build a pandas DataFrame listing each payment date, year fraction, cashflow, DF and PV of cashflow."
   ]
  },
  {
   "cell_type": "code",
   "execution_count": 9,
   "id": "c513b1e4",
   "metadata": {},
   "outputs": [
    {
     "data": {
      "text/plain": [
       "(1035128.4132108019,\n",
       "                   Date  YearFrac   Cashflow        DF             PV  \\\n",
       " 0    August 15th, 2025  0.000000        0.0  1.000000       0.000000   \n",
       " 1  February 16th, 2026  0.506849    65000.0  0.959315   62355.445291   \n",
       " 2    August 17th, 2026  1.005479    65000.0  0.909481   59116.277982   \n",
       " 3  February 15th, 2027  1.504110    65000.0  0.859651   55877.328398   \n",
       " 4    August 16th, 2027  2.002740    65000.0  0.809687   52629.671320   \n",
       " 5  February 15th, 2028  2.504110    65000.0  0.759606   49374.363016   \n",
       " 6    August 15th, 2028  3.002740  1065000.0  0.709648  755775.327204   \n",
       " \n",
       "        NetCF  \n",
       " 0        0.0  \n",
       " 1    65000.0  \n",
       " 2    65000.0  \n",
       " 3    65000.0  \n",
       " 4    65000.0  \n",
       " 5    65000.0  \n",
       " 6  1065000.0  )"
      ]
     },
     "execution_count": 9,
     "metadata": {},
     "output_type": "execute_result"
    }
   ],
   "source": [
    "cf_base = pd.DataFrame({\n",
    "    'Date': dates,\n",
    "    'YearFrac': year_frac,\n",
    "    'Cashflow': fixed_cashflows,\n",
    "    'DF': df_at_pay,\n",
    "})\n",
    "cf_base['PV'] = cf_base['Cashflow'] * cf_base['DF']\n",
    "cf_base['NetCF'] = cf_base['Cashflow']\n",
    "cf_base['PV'].sum(), cf_base.head(12)"
   ]
  },
  {
   "cell_type": "markdown",
   "id": "927624bf",
   "metadata": {},
   "source": [
    "## 5 — bond valuation from zero rates\n",
    "We write a small function that accepts zero rates and returns PV and cashflow table (using the same schedule)."
   ]
  },
  {
   "cell_type": "code",
   "execution_count": 22,
   "id": "39244b75",
   "metadata": {},
   "outputs": [
    {
     "name": "stdout",
     "output_type": "stream",
     "text": [
      "PV check equals pv_base? 1035128.41 1035128.41\n"
     ]
    }
   ],
   "source": [
    "def bond_valuation_from_zero(zero_rates):\n",
    "    df = np.exp(-zero_rates * t)\n",
    "    interp_func = interp1d(t, df, kind='linear', fill_value='extrapolate')\n",
    "    df_pay = interp_func(year_frac)\n",
    "    pv = float(np.sum(fixed_cashflows * df_pay))\n",
    "    cf = pd.DataFrame({'Date': dates, 'YearFrac': year_frac, 'Cashflow': fixed_cashflows, 'DF': df_pay})\n",
    "    cf['PV'] = cf['Cashflow'] * cf['DF']\n",
    "    return pv, cf\n",
    "\n",
    "# sanity check\n",
    "pv_check, cf_check = bond_valuation_from_zero(zero_rates_base)\n",
    "print('PV check equals pv_base?', round(pv_check,2), round(pv_base,2))"
   ]
  },
  {
   "cell_type": "markdown",
   "id": "a6d9ab4f",
   "metadata": {},
   "source": [
    "## 6 — Stress scenarios\n",
    "We'll implement multiple stress types:\n",
    "- Parallel shifts (±50bps, ±100bps)\n",
    "- Tenor bumps (bump short end, bump long end)\n",
    "- Curve steepening/flattening (twists)\n",
    "- Random Gaussian shocks to each zero rate\n",
    "- Scaling (multiply rates by factor)\n",
    "\n",
    "We'll compute PV for each scenario and compare to base."
   ]
  },
  {
   "cell_type": "code",
   "execution_count": 11,
   "id": "9ffdc2f8",
   "metadata": {},
   "outputs": [
    {
     "name": "stdout",
     "output_type": "stream",
     "text": [
      "Parallel shifts done\n"
     ]
    }
   ],
   "source": [
    "# Parallel shifts\n",
    "shifts = [0.005, 0.01, -0.005, -0.01]  # in decimals (50bps,100bps, -50bps, -100bps)\n",
    "scenarios = []\n",
    "for s in shifts:\n",
    "    zr = zero_rates_base + s\n",
    "    pv, _ = bond_valuation_from_zero(zr)\n",
    "    scenarios.append({'Scenario': f'Parallel {s:+.3%}', 'zero_rates': zr, 'PV': pv})\n",
    "\n",
    "print('Parallel shifts done')"
   ]
  },
  {
   "cell_type": "markdown",
   "id": "0b8bae3f",
   "metadata": {},
   "source": [
    "### Tenor bumps\n",
    "Bump only short-end (first 3 rates) and long-end (last 3 rates) to see local sensitivity."
   ]
  },
  {
   "cell_type": "code",
   "execution_count": 12,
   "id": "c0352968",
   "metadata": {},
   "outputs": [
    {
     "name": "stdout",
     "output_type": "stream",
     "text": [
      "Tenor bumps done\n"
     ]
    }
   ],
   "source": [
    "zr_short_bump = zero_rates_base.copy()\n",
    "zr_short_bump[:3] += 0.01  # +100bps short\n",
    "pv_short, _ = bond_valuation_from_zero(zr_short_bump)\n",
    "scenarios.append({'Scenario': 'Short-end +100bps', 'zero_rates': zr_short_bump, 'PV': pv_short})\n",
    "\n",
    "zr_long_bump = zero_rates_base.copy()\n",
    "zr_long_bump[-3:] += 0.01  # +100bps long\n",
    "pv_long, _ = bond_valuation_from_zero(zr_long_bump)\n",
    "scenarios.append({'Scenario': 'Long-end +100bps', 'zero_rates': zr_long_bump, 'PV': pv_long})\n",
    "\n",
    "print('Tenor bumps done')"
   ]
  },
  {
   "cell_type": "markdown",
   "id": "54f5aaff",
   "metadata": {},
   "source": [
    "### Curve twist: steepen and flatten\n",
    "Implement a steepening (short rates down, long rates up) and flattening (short up, long down)."
   ]
  },
  {
   "cell_type": "code",
   "execution_count": 13,
   "id": "b9fb039d",
   "metadata": {},
   "outputs": [
    {
     "name": "stdout",
     "output_type": "stream",
     "text": [
      "Twist scenarios done\n"
     ]
    }
   ],
   "source": [
    "zr_steepen = zero_rates_base.copy()\n",
    "zr_steepen[:4] -= 0.005\n",
    "zr_steepen[-4:] += 0.005\n",
    "pv_steepen, _ = bond_valuation_from_zero(zr_steepen)\n",
    "scenarios.append({'Scenario': 'Steepen +/-5bps', 'zero_rates': zr_steepen, 'PV': pv_steepen})\n",
    "\n",
    "zr_flatten = zero_rates_base.copy()\n",
    "zr_flatten[:4] += 0.005\n",
    "zr_flatten[-4:] -= 0.005\n",
    "pv_flatten, _ = bond_valuation_from_zero(zr_flatten)\n",
    "scenarios.append({'Scenario': 'Flatten +/-5bps', 'zero_rates': zr_flatten, 'PV': pv_flatten})\n",
    "\n",
    "print('Twist scenarios done')"
   ]
  },
  {
   "cell_type": "markdown",
   "id": "036383d9",
   "metadata": {},
   "source": [
    "### Random Gaussian shocks\n",
    "Add small Gaussian noise to each zero rate (mean 0, stdev 20bps) to simulate idiosyncratic movements."
   ]
  },
  {
   "cell_type": "code",
   "execution_count": 14,
   "id": "7afd0cd4",
   "metadata": {},
   "outputs": [
    {
     "name": "stdout",
     "output_type": "stream",
     "text": [
      "Random Gaussian shock done\n"
     ]
    }
   ],
   "source": [
    "np.random.seed(42)\n",
    "rand_noise = np.random.normal(0.0, 0.002, size=zero_rates_base.shape)\n",
    "zr_rand = zero_rates_base + rand_noise\n",
    "pv_rand, _ = bond_valuation_from_zero(zr_rand)\n",
    "scenarios.append({'Scenario': 'Random Gaussian (σ=20bps)', 'zero_rates': zr_rand, 'PV': pv_rand})\n",
    "print('Random Gaussian shock done')"
   ]
  },
  {
   "cell_type": "markdown",
   "id": "de105497",
   "metadata": {},
   "source": [
    "### Scaling\n",
    "Multiply the whole curve by a factor (e.g., +10% meaning rates increase by 10% multiplicatively)."
   ]
  },
  {
   "cell_type": "code",
   "execution_count": 15,
   "id": "3e7af126",
   "metadata": {},
   "outputs": [
    {
     "name": "stdout",
     "output_type": "stream",
     "text": [
      "Scaling done\n"
     ]
    }
   ],
   "source": [
    "zr_scale = zero_rates_base * 1.10\n",
    "pv_scale, _ = bond_valuation_from_zero(zr_scale)\n",
    "scenarios.append({'Scenario': 'Scale +10%', 'zero_rates': zr_scale, 'PV': pv_scale})\n",
    "print('Scaling done')"
   ]
  },
  {
   "cell_type": "markdown",
   "id": "0a10cb97",
   "metadata": {},
   "source": [
    "### Large stress\n",
    "A large parallel down shift (e.g., -500bps) to explore extreme scenario."
   ]
  },
  {
   "cell_type": "code",
   "execution_count": 16,
   "id": "ca920d6a",
   "metadata": {},
   "outputs": [
    {
     "name": "stdout",
     "output_type": "stream",
     "text": [
      "Large shift done\n"
     ]
    }
   ],
   "source": [
    "zr_large = zero_rates_base - 0.05\n",
    "pv_large, _ = bond_valuation_from_zero(zr_large)\n",
    "scenarios.append({'Scenario': 'Parallel -500bps', 'zero_rates': zr_large, 'PV': pv_large})\n",
    "print('Large shift done')"
   ]
  },
  {
   "cell_type": "markdown",
   "id": "e565e7ff",
   "metadata": {},
   "source": [
    "## 7 — Build results DataFrame\n",
    "Collect all scenario PVs, compute differences vs base and add descriptions."
   ]
  },
  {
   "cell_type": "code",
   "execution_count": 17,
   "id": "4c7e1c6c",
   "metadata": {},
   "outputs": [
    {
     "data": {
      "text/html": [
       "<div>\n",
       "<style scoped>\n",
       "    .dataframe tbody tr th:only-of-type {\n",
       "        vertical-align: middle;\n",
       "    }\n",
       "\n",
       "    .dataframe tbody tr th {\n",
       "        vertical-align: top;\n",
       "    }\n",
       "\n",
       "    .dataframe thead th {\n",
       "        text-align: right;\n",
       "    }\n",
       "</style>\n",
       "<table border=\"1\" class=\"dataframe\">\n",
       "  <thead>\n",
       "    <tr style=\"text-align: right;\">\n",
       "      <th></th>\n",
       "      <th>Scenario</th>\n",
       "      <th>PV</th>\n",
       "      <th>Diff_vs_Base</th>\n",
       "      <th>PctDiff_vs_Base</th>\n",
       "      <th>Description</th>\n",
       "    </tr>\n",
       "  </thead>\n",
       "  <tbody>\n",
       "    <tr>\n",
       "      <th>0</th>\n",
       "      <td>Parallel +0.500%</td>\n",
       "      <td>1.021858e+06</td>\n",
       "      <td>-13270.777410</td>\n",
       "      <td>-1.282042</td>\n",
       "      <td>Parallel +0.500%</td>\n",
       "    </tr>\n",
       "    <tr>\n",
       "      <th>1</th>\n",
       "      <td>Parallel +1.000%</td>\n",
       "      <td>1.008773e+06</td>\n",
       "      <td>-26355.765755</td>\n",
       "      <td>-2.546135</td>\n",
       "      <td>Parallel +1.000%</td>\n",
       "    </tr>\n",
       "    <tr>\n",
       "      <th>2</th>\n",
       "      <td>Parallel -0.500%</td>\n",
       "      <td>1.048588e+06</td>\n",
       "      <td>13459.288460</td>\n",
       "      <td>1.300253</td>\n",
       "      <td>Parallel -0.500%</td>\n",
       "    </tr>\n",
       "    <tr>\n",
       "      <th>3</th>\n",
       "      <td>Parallel -1.000%</td>\n",
       "      <td>1.062238e+06</td>\n",
       "      <td>27109.850375</td>\n",
       "      <td>2.618984</td>\n",
       "      <td>Parallel -1.000%</td>\n",
       "    </tr>\n",
       "    <tr>\n",
       "      <th>4</th>\n",
       "      <td>Short-end +100bps</td>\n",
       "      <td>1.034814e+06</td>\n",
       "      <td>-313.941173</td>\n",
       "      <td>-0.030329</td>\n",
       "      <td>Short-end +100bps</td>\n",
       "    </tr>\n",
       "    <tr>\n",
       "      <th>5</th>\n",
       "      <td>Long-end +100bps</td>\n",
       "      <td>1.012328e+06</td>\n",
       "      <td>-22800.445315</td>\n",
       "      <td>-2.202668</td>\n",
       "      <td>Long-end +100bps</td>\n",
       "    </tr>\n",
       "    <tr>\n",
       "      <th>6</th>\n",
       "      <td>Steepen +/-5bps</td>\n",
       "      <td>1.023585e+06</td>\n",
       "      <td>-11542.970378</td>\n",
       "      <td>-1.115124</td>\n",
       "      <td>Steepen +/-5bps</td>\n",
       "    </tr>\n",
       "    <tr>\n",
       "      <th>7</th>\n",
       "      <td>Flatten +/-5bps</td>\n",
       "      <td>1.046851e+06</td>\n",
       "      <td>11722.296921</td>\n",
       "      <td>1.132449</td>\n",
       "      <td>Flatten +/-5bps</td>\n",
       "    </tr>\n",
       "    <tr>\n",
       "      <th>8</th>\n",
       "      <td>Random Gaussian (σ=20bps)</td>\n",
       "      <td>1.036956e+06</td>\n",
       "      <td>1827.358068</td>\n",
       "      <td>0.176534</td>\n",
       "      <td>Random Gaussian (σ=20bps)</td>\n",
       "    </tr>\n",
       "    <tr>\n",
       "      <th>9</th>\n",
       "      <td>Scale +10%</td>\n",
       "      <td>1.005556e+06</td>\n",
       "      <td>-29572.379670</td>\n",
       "      <td>-2.856880</td>\n",
       "      <td>Scale +10%</td>\n",
       "    </tr>\n",
       "    <tr>\n",
       "      <th>10</th>\n",
       "      <td>Parallel -500bps</td>\n",
       "      <td>1.178674e+06</td>\n",
       "      <td>143545.503238</td>\n",
       "      <td>13.867410</td>\n",
       "      <td>Parallel -500bps</td>\n",
       "    </tr>\n",
       "  </tbody>\n",
       "</table>\n",
       "</div>"
      ],
      "text/plain": [
       "                     Scenario            PV   Diff_vs_Base  PctDiff_vs_Base  \\\n",
       "0            Parallel +0.500%  1.021858e+06  -13270.777410        -1.282042   \n",
       "1            Parallel +1.000%  1.008773e+06  -26355.765755        -2.546135   \n",
       "2            Parallel -0.500%  1.048588e+06   13459.288460         1.300253   \n",
       "3            Parallel -1.000%  1.062238e+06   27109.850375         2.618984   \n",
       "4           Short-end +100bps  1.034814e+06    -313.941173        -0.030329   \n",
       "5            Long-end +100bps  1.012328e+06  -22800.445315        -2.202668   \n",
       "6             Steepen +/-5bps  1.023585e+06  -11542.970378        -1.115124   \n",
       "7             Flatten +/-5bps  1.046851e+06   11722.296921         1.132449   \n",
       "8   Random Gaussian (σ=20bps)  1.036956e+06    1827.358068         0.176534   \n",
       "9                  Scale +10%  1.005556e+06  -29572.379670        -2.856880   \n",
       "10           Parallel -500bps  1.178674e+06  143545.503238        13.867410   \n",
       "\n",
       "                  Description  \n",
       "0            Parallel +0.500%  \n",
       "1            Parallel +1.000%  \n",
       "2            Parallel -0.500%  \n",
       "3            Parallel -1.000%  \n",
       "4           Short-end +100bps  \n",
       "5            Long-end +100bps  \n",
       "6             Steepen +/-5bps  \n",
       "7             Flatten +/-5bps  \n",
       "8   Random Gaussian (σ=20bps)  \n",
       "9                  Scale +10%  \n",
       "10           Parallel -500bps  "
      ]
     },
     "execution_count": 17,
     "metadata": {},
     "output_type": "execute_result"
    }
   ],
   "source": [
    "results = pd.DataFrame(scenarios)\n",
    "results['PV_base'] = pv_base\n",
    "results['Diff_vs_Base'] = results['PV'] - pv_base\n",
    "results['PctDiff_vs_Base'] = results['Diff_vs_Base'] / pv_base * 100.0\n",
    "\n",
    "# add description\n",
    "results['Description'] = results['Scenario']\n",
    "results[['Scenario','PV','Diff_vs_Base','PctDiff_vs_Base','Description']]"
   ]
  },
  {
   "cell_type": "markdown",
   "id": "7dc98a6d",
   "metadata": {},
   "source": [
    "### Display results table (summary)"
   ]
  },
  {
   "cell_type": "code",
   "execution_count": 18,
   "id": "dfd29601",
   "metadata": {},
   "outputs": [
    {
     "data": {
      "text/html": [
       "<div>\n",
       "<style scoped>\n",
       "    .dataframe tbody tr th:only-of-type {\n",
       "        vertical-align: middle;\n",
       "    }\n",
       "\n",
       "    .dataframe tbody tr th {\n",
       "        vertical-align: top;\n",
       "    }\n",
       "\n",
       "    .dataframe thead th {\n",
       "        text-align: right;\n",
       "    }\n",
       "</style>\n",
       "<table border=\"1\" class=\"dataframe\">\n",
       "  <thead>\n",
       "    <tr style=\"text-align: right;\">\n",
       "      <th></th>\n",
       "      <th>Scenario</th>\n",
       "      <th>PV</th>\n",
       "      <th>Diff_vs_Base</th>\n",
       "      <th>PctDiff_vs_Base</th>\n",
       "      <th>Description</th>\n",
       "    </tr>\n",
       "  </thead>\n",
       "  <tbody>\n",
       "    <tr>\n",
       "      <th>0</th>\n",
       "      <td>Parallel +0.500%</td>\n",
       "      <td>1,021,857.64</td>\n",
       "      <td>-13,270.78</td>\n",
       "      <td>-1.28</td>\n",
       "      <td>Parallel +0.500%</td>\n",
       "    </tr>\n",
       "    <tr>\n",
       "      <th>1</th>\n",
       "      <td>Parallel +1.000%</td>\n",
       "      <td>1,008,772.65</td>\n",
       "      <td>-26,355.77</td>\n",
       "      <td>-2.55</td>\n",
       "      <td>Parallel +1.000%</td>\n",
       "    </tr>\n",
       "    <tr>\n",
       "      <th>2</th>\n",
       "      <td>Parallel -0.500%</td>\n",
       "      <td>1,048,587.70</td>\n",
       "      <td>13,459.29</td>\n",
       "      <td>1.30</td>\n",
       "      <td>Parallel -0.500%</td>\n",
       "    </tr>\n",
       "    <tr>\n",
       "      <th>3</th>\n",
       "      <td>Parallel -1.000%</td>\n",
       "      <td>1,062,238.26</td>\n",
       "      <td>27,109.85</td>\n",
       "      <td>2.62</td>\n",
       "      <td>Parallel -1.000%</td>\n",
       "    </tr>\n",
       "    <tr>\n",
       "      <th>4</th>\n",
       "      <td>Short-end +100bps</td>\n",
       "      <td>1,034,814.47</td>\n",
       "      <td>-313.94</td>\n",
       "      <td>-0.03</td>\n",
       "      <td>Short-end +100bps</td>\n",
       "    </tr>\n",
       "    <tr>\n",
       "      <th>5</th>\n",
       "      <td>Long-end +100bps</td>\n",
       "      <td>1,012,327.97</td>\n",
       "      <td>-22,800.45</td>\n",
       "      <td>-2.20</td>\n",
       "      <td>Long-end +100bps</td>\n",
       "    </tr>\n",
       "    <tr>\n",
       "      <th>6</th>\n",
       "      <td>Steepen +/-5bps</td>\n",
       "      <td>1,023,585.44</td>\n",
       "      <td>-11,542.97</td>\n",
       "      <td>-1.12</td>\n",
       "      <td>Steepen +/-5bps</td>\n",
       "    </tr>\n",
       "    <tr>\n",
       "      <th>7</th>\n",
       "      <td>Flatten +/-5bps</td>\n",
       "      <td>1,046,850.71</td>\n",
       "      <td>11,722.30</td>\n",
       "      <td>1.13</td>\n",
       "      <td>Flatten +/-5bps</td>\n",
       "    </tr>\n",
       "    <tr>\n",
       "      <th>8</th>\n",
       "      <td>Random Gaussian (σ=20bps)</td>\n",
       "      <td>1,036,955.77</td>\n",
       "      <td>1,827.36</td>\n",
       "      <td>0.18</td>\n",
       "      <td>Random Gaussian (σ=20bps)</td>\n",
       "    </tr>\n",
       "    <tr>\n",
       "      <th>9</th>\n",
       "      <td>Scale +10%</td>\n",
       "      <td>1,005,556.03</td>\n",
       "      <td>-29,572.38</td>\n",
       "      <td>-2.86</td>\n",
       "      <td>Scale +10%</td>\n",
       "    </tr>\n",
       "    <tr>\n",
       "      <th>10</th>\n",
       "      <td>Parallel -500bps</td>\n",
       "      <td>1,178,673.92</td>\n",
       "      <td>143,545.50</td>\n",
       "      <td>13.87</td>\n",
       "      <td>Parallel -500bps</td>\n",
       "    </tr>\n",
       "  </tbody>\n",
       "</table>\n",
       "</div>"
      ],
      "text/plain": [
       "                     Scenario           PV  Diff_vs_Base  PctDiff_vs_Base  \\\n",
       "0            Parallel +0.500% 1,021,857.64    -13,270.78            -1.28   \n",
       "1            Parallel +1.000% 1,008,772.65    -26,355.77            -2.55   \n",
       "2            Parallel -0.500% 1,048,587.70     13,459.29             1.30   \n",
       "3            Parallel -1.000% 1,062,238.26     27,109.85             2.62   \n",
       "4           Short-end +100bps 1,034,814.47       -313.94            -0.03   \n",
       "5            Long-end +100bps 1,012,327.97    -22,800.45            -2.20   \n",
       "6             Steepen +/-5bps 1,023,585.44    -11,542.97            -1.12   \n",
       "7             Flatten +/-5bps 1,046,850.71     11,722.30             1.13   \n",
       "8   Random Gaussian (σ=20bps) 1,036,955.77      1,827.36             0.18   \n",
       "9                  Scale +10% 1,005,556.03    -29,572.38            -2.86   \n",
       "10           Parallel -500bps 1,178,673.92    143,545.50            13.87   \n",
       "\n",
       "                  Description  \n",
       "0            Parallel +0.500%  \n",
       "1            Parallel +1.000%  \n",
       "2            Parallel -0.500%  \n",
       "3            Parallel -1.000%  \n",
       "4           Short-end +100bps  \n",
       "5            Long-end +100bps  \n",
       "6             Steepen +/-5bps  \n",
       "7             Flatten +/-5bps  \n",
       "8   Random Gaussian (σ=20bps)  \n",
       "9                  Scale +10%  \n",
       "10           Parallel -500bps  "
      ]
     },
     "execution_count": 18,
     "metadata": {},
     "output_type": "execute_result"
    }
   ],
   "source": [
    "pd.options.display.float_format = '{:,.2f}'.format\n",
    "results_display = results[['Scenario','PV','Diff_vs_Base','PctDiff_vs_Base','Description']]\n",
    "results_display"
   ]
  },
  {
   "cell_type": "markdown",
   "id": "ab71c649",
   "metadata": {},
   "source": [
    "## 8 — Per-period cashflow PV under one stress (Base and Parallel +100bps)\n",
    "We'll compute and display cashflows table (DF and PV) for base and for a chosen stressed curve."
   ]
  },
  {
   "cell_type": "code",
   "execution_count": 19,
   "id": "4b7d2d3e",
   "metadata": {},
   "outputs": [
    {
     "name": "stdout",
     "output_type": "stream",
     "text": [
      "PV base: 1035128.4132108019\n",
      "PV parallel +100bps: 1008772.6474555291\n"
     ]
    },
    {
     "data": {
      "text/html": [
       "<div>\n",
       "<style scoped>\n",
       "    .dataframe tbody tr th:only-of-type {\n",
       "        vertical-align: middle;\n",
       "    }\n",
       "\n",
       "    .dataframe tbody tr th {\n",
       "        vertical-align: top;\n",
       "    }\n",
       "\n",
       "    .dataframe thead th {\n",
       "        text-align: right;\n",
       "    }\n",
       "</style>\n",
       "<table border=\"1\" class=\"dataframe\">\n",
       "  <thead>\n",
       "    <tr style=\"text-align: right;\">\n",
       "      <th></th>\n",
       "      <th>Date</th>\n",
       "      <th>YearFrac</th>\n",
       "      <th>Cashflow</th>\n",
       "      <th>DF</th>\n",
       "      <th>PV</th>\n",
       "      <th>DF_plus100</th>\n",
       "      <th>PV_plus100</th>\n",
       "      <th>PV_Diff</th>\n",
       "    </tr>\n",
       "  </thead>\n",
       "  <tbody>\n",
       "    <tr>\n",
       "      <th>0</th>\n",
       "      <td>August 15th, 2025</td>\n",
       "      <td>0.00</td>\n",
       "      <td>0.00</td>\n",
       "      <td>1.00</td>\n",
       "      <td>0.00</td>\n",
       "      <td>1.00</td>\n",
       "      <td>0.00</td>\n",
       "      <td>0.00</td>\n",
       "    </tr>\n",
       "    <tr>\n",
       "      <th>1</th>\n",
       "      <td>February 16th, 2026</td>\n",
       "      <td>0.51</td>\n",
       "      <td>65,000.00</td>\n",
       "      <td>0.96</td>\n",
       "      <td>62,355.45</td>\n",
       "      <td>0.95</td>\n",
       "      <td>62,041.50</td>\n",
       "      <td>-313.94</td>\n",
       "    </tr>\n",
       "    <tr>\n",
       "      <th>2</th>\n",
       "      <td>August 17th, 2026</td>\n",
       "      <td>1.01</td>\n",
       "      <td>65,000.00</td>\n",
       "      <td>0.91</td>\n",
       "      <td>59,116.28</td>\n",
       "      <td>0.90</td>\n",
       "      <td>58,526.24</td>\n",
       "      <td>-590.04</td>\n",
       "    </tr>\n",
       "    <tr>\n",
       "      <th>3</th>\n",
       "      <td>February 15th, 2027</td>\n",
       "      <td>1.50</td>\n",
       "      <td>65,000.00</td>\n",
       "      <td>0.86</td>\n",
       "      <td>55,877.33</td>\n",
       "      <td>0.85</td>\n",
       "      <td>55,043.24</td>\n",
       "      <td>-834.09</td>\n",
       "    </tr>\n",
       "    <tr>\n",
       "      <th>4</th>\n",
       "      <td>August 16th, 2027</td>\n",
       "      <td>2.00</td>\n",
       "      <td>65,000.00</td>\n",
       "      <td>0.81</td>\n",
       "      <td>52,629.67</td>\n",
       "      <td>0.79</td>\n",
       "      <td>51,587.43</td>\n",
       "      <td>-1,042.24</td>\n",
       "    </tr>\n",
       "    <tr>\n",
       "      <th>5</th>\n",
       "      <td>February 15th, 2028</td>\n",
       "      <td>2.50</td>\n",
       "      <td>65,000.00</td>\n",
       "      <td>0.76</td>\n",
       "      <td>49,374.36</td>\n",
       "      <td>0.74</td>\n",
       "      <td>48,154.67</td>\n",
       "      <td>-1,219.70</td>\n",
       "    </tr>\n",
       "    <tr>\n",
       "      <th>6</th>\n",
       "      <td>August 15th, 2028</td>\n",
       "      <td>3.00</td>\n",
       "      <td>1,065,000.00</td>\n",
       "      <td>0.71</td>\n",
       "      <td>755,775.33</td>\n",
       "      <td>0.69</td>\n",
       "      <td>733,419.57</td>\n",
       "      <td>-22,355.76</td>\n",
       "    </tr>\n",
       "  </tbody>\n",
       "</table>\n",
       "</div>"
      ],
      "text/plain": [
       "                  Date  YearFrac     Cashflow   DF         PV  DF_plus100  \\\n",
       "0    August 15th, 2025      0.00         0.00 1.00       0.00        1.00   \n",
       "1  February 16th, 2026      0.51    65,000.00 0.96  62,355.45        0.95   \n",
       "2    August 17th, 2026      1.01    65,000.00 0.91  59,116.28        0.90   \n",
       "3  February 15th, 2027      1.50    65,000.00 0.86  55,877.33        0.85   \n",
       "4    August 16th, 2027      2.00    65,000.00 0.81  52,629.67        0.79   \n",
       "5  February 15th, 2028      2.50    65,000.00 0.76  49,374.36        0.74   \n",
       "6    August 15th, 2028      3.00 1,065,000.00 0.71 755,775.33        0.69   \n",
       "\n",
       "   PV_plus100    PV_Diff  \n",
       "0        0.00       0.00  \n",
       "1   62,041.50    -313.94  \n",
       "2   58,526.24    -590.04  \n",
       "3   55,043.24    -834.09  \n",
       "4   51,587.43  -1,042.24  \n",
       "5   48,154.67  -1,219.70  \n",
       "6  733,419.57 -22,355.76  "
      ]
     },
     "execution_count": 19,
     "metadata": {},
     "output_type": "execute_result"
    }
   ],
   "source": [
    "# cashflows for base\n",
    "pv_base, cf_base = bond_valuation_from_zero(zero_rates_base)\n",
    "# cashflows for parallel +100bps scenario (we created above as shifts[1])\n",
    "zr_plus100 = zero_rates_base + 0.01\n",
    "pv_p100, cf_p100 = bond_valuation_from_zero(zr_plus100)\n",
    "\n",
    "print('PV base:', pv_base)\n",
    "print('PV parallel +100bps:', pv_p100)\n",
    "\n",
    "# show tables side by side\n",
    "cf_compare = cf_base.copy()\n",
    "cf_compare['DF_plus100'] = cf_p100['DF']\n",
    "cf_compare['PV_plus100'] = cf_p100['PV']\n",
    "cf_compare['PV_Diff'] = cf_compare['PV_plus100'] - cf_compare['PV']\n",
    "cf_compare.head(12)"
   ]
  }
 ],
 "metadata": {
  "kernelspec": {
   "display_name": "Python 3 (ipykernel)",
   "language": "python",
   "name": "python3"
  },
  "language_info": {
   "codemirror_mode": {
    "name": "ipython",
    "version": 3
   },
   "file_extension": ".py",
   "mimetype": "text/x-python",
   "name": "python",
   "nbconvert_exporter": "python",
   "pygments_lexer": "ipython3",
   "version": "3.10.9"
  }
 },
 "nbformat": 4,
 "nbformat_minor": 5
}
